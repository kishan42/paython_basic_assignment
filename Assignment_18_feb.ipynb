{
 "cells": [
  {
   "cell_type": "markdown",
   "id": "ad00fca8-c7c5-4aa3-8a54-76d312a07b08",
   "metadata": {},
   "source": [
    "Q1. What is an API? Give an example, where an API is used in real life."
   ]
  },
  {
   "cell_type": "markdown",
   "id": "4ef06ae8-9bd0-405a-95e7-936fd94ca940",
   "metadata": {},
   "source": [
    "APIs are used in web applications to connect user-facing front ends with critical back-end functionality and data. APIs are used to deliver material by streaming services such as Spotify and Netflix. APIs are used by automakers such as Tesla to provide software upgrades."
   ]
  },
  {
   "cell_type": "markdown",
   "id": "c2a52b19-3ed2-4d7f-a309-412d7f75fe6a",
   "metadata": {},
   "source": [
    "Q2. Give advantages and disadvantages of using API."
   ]
  },
  {
   "cell_type": "markdown",
   "id": "4cda7c9b-c321-4e00-adfc-1069367fe252",
   "metadata": {},
   "source": [
    "APIs empower developers to be more productive by reusing code in complex but repetitive processes. They don't need to start from scratch as the API specifies how to assemble software components in a program. APIs exist to make it easy to interface with other developers' applications.\n"
   ]
  },
  {
   "cell_type": "markdown",
   "id": "aebc1011-c318-4581-8b7b-a36fbbe11b1d",
   "metadata": {},
   "source": [
    "Bound by constraints. Rest APIs are by and large bound by six architectural constraints which include the uniform interface, the client-server based nature, stateless operations, layered system architecture, etc. ...\n",
    "Learning curve for new developers. ...\n",
    "Lacks security. ...\n",
    "Limited transfer protocol support"
   ]
  },
  {
   "cell_type": "markdown",
   "id": "e1843d8d-496a-47dd-be79-154cda8c3a97",
   "metadata": {},
   "source": [
    "Q3. What is a Web API? Differentiate between API and Web API."
   ]
  },
  {
   "cell_type": "markdown",
   "id": "9dcda4d5-4924-40e5-9100-b52cf658eb90",
   "metadata": {},
   "source": [
    " API stands for Application Programming Interface. A Web API is an application programming interface for the Web. A Browser API can extend the functionality of a web browser."
   ]
  },
  {
   "cell_type": "markdown",
   "id": "0b7a4ed1-4887-485d-b262-1f51dfaa26ba",
   "metadata": {},
   "source": [
    "API is an interface that exposes an application's data to outside software, whereas web applications are one type of API with stricter requirements. These requirements include network communication, SOAP as the primary protocol, and less accessibility for the public. "
   ]
  },
  {
   "cell_type": "markdown",
   "id": "89d909ed-4647-4940-bdb3-83aa58b7ba81",
   "metadata": {},
   "source": [
    "Web APIs: API stands for Application Programming Interface. It is a collection of communication conventions and subroutines used by various programs to communicate between them. A developer can utilize different API apparatuses to make its program simpler and less complex."
   ]
  },
  {
   "cell_type": "markdown",
   "id": "d60e1c5e-6690-4c89-9cfd-e9f5e87c8197",
   "metadata": {},
   "source": [
    "Q4. Explain REST and SOAP Architecture. Mention shortcomings of SOAP."
   ]
  },
  {
   "cell_type": "markdown",
   "id": "7f69c505-0714-456d-ac4a-aa5509535037",
   "metadata": {},
   "source": [
    "REST is a software architectural style that relies on rules that describes how to define and access resources. As we can see on Google Trends, interest in REST is huge. It's hard to imagine the moderns Internet without RESTful APIs. In this article, we'll dive deeply into REST and related HTTP concepts."
   ]
  },
  {
   "cell_type": "markdown",
   "id": "bb2b605e-c5ec-4a4a-a6c6-cd84e1697c6d",
   "metadata": {},
   "source": [
    "SOAP is a protocol for the exchange of information in a distributed environment. SOAP messages are encoded as XML documents and can be exchanged using various underlying protocols."
   ]
  },
  {
   "cell_type": "markdown",
   "id": "dc1ccf17-9656-4e28-8642-0802857a00f5",
   "metadata": {},
   "source": [
    "As SOAP can only transfer messages as XML files, your SOAP API will be less performant, as XML is a verbose format compared to JSON. API calls made to your server will need more bandwidth and it will take more time to process the request and transfer the response back to the client."
   ]
  },
  {
   "cell_type": "markdown",
   "id": "241d4c31-bb84-43a0-92ef-ecbe7cd6a6ff",
   "metadata": {},
   "source": [
    "Q5. Differentiate between REST and SOAP."
   ]
  },
  {
   "cell_type": "markdown",
   "id": "57d4911a-41ba-4c06-901e-02d9d7c9122c",
   "metadata": {},
   "source": [
    "Many legacy systems may still adhere to SOAP, while REST came later and is often viewed as a faster alternative in web-based scenarios. REST is a set of guidelines that offers flexible implementation, whereas SOAP is a protocol with specific requirements like XML messaging.\n",
    "\n",
    "REST APIs are lightweight, making them ideal for newer contexts like the Internet of Things (IoT), mobile application development, and serverless computing. SOAP web services offer built-in security and transaction compliance that align with many enterprise needs, but that also makes them heavier. Additionally, many public APIs, like the Google Maps API, follow the REST guidelines."
   ]
  },
  {
   "cell_type": "code",
   "execution_count": null,
   "id": "9f62fd38-932d-4463-9ac7-2cb225a2fc4f",
   "metadata": {},
   "outputs": [],
   "source": []
  }
 ],
 "metadata": {
  "kernelspec": {
   "display_name": "Python 3 (ipykernel)",
   "language": "python",
   "name": "python3"
  },
  "language_info": {
   "codemirror_mode": {
    "name": "ipython",
    "version": 3
   },
   "file_extension": ".py",
   "mimetype": "text/x-python",
   "name": "python",
   "nbconvert_exporter": "python",
   "pygments_lexer": "ipython3",
   "version": "3.10.8"
  }
 },
 "nbformat": 4,
 "nbformat_minor": 5
}

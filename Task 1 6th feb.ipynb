{
 "cells": [
  {
   "cell_type": "markdown",
   "id": "666b332a-0f0b-4505-9363-80066bdc53d1",
   "metadata": {},
   "source": [
    "Q1. Create a function which will take a list as an argument and return the product of all the numbers\n",
    "after creating a flat list.\n",
    "Use the below-given list as an argument for your function.\n",
    "list1 = [1,2,3,4, [44,55,66, True], False, (34,56,78,89,34), {1,2,3,3,2,1}, {1:34, \"key2\": [55, 67, 78, 89], 4: (45,\n",
    "22, 61, 34)}, [56, 'data science'], 'Machine Learning']\n",
    "Note: you must extract numeric keys and values of the dictionary also."
   ]
  },
  {
   "cell_type": "code",
   "execution_count": 1,
   "id": "59820cd5-14b5-494d-bbd8-d8d4e9590c16",
   "metadata": {},
   "outputs": [],
   "source": [
    "list1 = [1,2,3,4, [44,55,66, True], False, (34,56,78,89,34), {1,2,3,3,2,1}, {1:34, \"key2\": [55, 67, 78, 89], 4: (45,\n",
    "22, 61, 34)}, [56, 'data science'], 'Machine Learning']"
   ]
  },
  {
   "cell_type": "code",
   "execution_count": 2,
   "id": "6a044944-ccc2-4c89-b30c-eda8fb7a66d8",
   "metadata": {},
   "outputs": [],
   "source": [
    "def func(l):\n",
    "    pro = 1\n",
    "    for i in l:\n",
    "        if type(i) == int:\n",
    "            pro = pro*i\n",
    "        elif type(i) == list:\n",
    "            for j in i:\n",
    "                 if type(j) == str:                        \n",
    "                    pass\n",
    "                 else:\n",
    "                    pro = pro*j\n",
    "        elif type(i) == set:\n",
    "            for k in i:\n",
    "                pro = pro*k\n",
    "        elif type(i) == tuple:\n",
    "            for l in i:\n",
    "                pro = pro*l\n",
    "        elif type(i) == dict:\n",
    "            for m in list(i.keys()):\n",
    "                if type(m) == int:\n",
    "                    pro = pro*m\n",
    "            for n in list(i.values()):\n",
    "                if type(n) == int:\n",
    "                    pro = pro*n \n",
    "    print(pro)"
   ]
  },
  {
   "cell_type": "code",
   "execution_count": 3,
   "id": "8a32f577-80cf-427d-8d7c-08dcb41312fb",
   "metadata": {},
   "outputs": [
    {
     "name": "stdout",
     "output_type": "stream",
     "text": [
      "78718933113238978560\n"
     ]
    }
   ],
   "source": [
    "func(list1)"
   ]
  },
  {
   "cell_type": "markdown",
   "id": "97b7ee58-954c-4342-aa5d-c9f63aee25bf",
   "metadata": {},
   "source": [
    "Q2. Write a python program for encrypting a message sent to you by your friend. The logic of encryption\n",
    "should be such that, for a the output should be z. For b, the output should be y. For c, the output should\n",
    "be x respectively. Also, the whitespace should be replaced with a dollar sign. Keep the punctuation\n",
    "marks unchanged.\n",
    "Input Sentence: I want to become a Data Scientist.\n",
    "Encrypt the above input sentence using the program you just created.\n",
    "Note: Convert the given input sentence into lowercase before encrypting. The final output should be\n",
    "lowercase."
   ]
  },
  {
   "cell_type": "code",
   "execution_count": 4,
   "id": "c3e13922-4b2c-4cb7-ae15-5872aad86ba6",
   "metadata": {},
   "outputs": [
    {
     "name": "stdin",
     "output_type": "stream",
     "text": [
      "Enter the string : I want to become a Data Scientist.\n"
     ]
    }
   ],
   "source": [
    "str = input(\"Enter the string :\")\n",
    "estr = \"\""
   ]
  },
  {
   "cell_type": "code",
   "execution_count": 5,
   "id": "e25b9e1b-5168-4e40-9964-cf45caeb7850",
   "metadata": {},
   "outputs": [],
   "source": [
    "for i in range(len(str)):\n",
    "    if str[i] == ' ':\n",
    "        estr = estr + '$'\n",
    "    else:\n",
    "        for j in range(26):\n",
    "            if str[i].lower() == chr(97+j):\n",
    "                estr = estr + str[i].lower().replace(chr(97 + j),chr(122 - j))"
   ]
  },
  {
   "cell_type": "code",
   "execution_count": 6,
   "id": "5c2cce4e-aa79-465b-a2db-78c0eecfee0c",
   "metadata": {},
   "outputs": [
    {
     "name": "stdout",
     "output_type": "stream",
     "text": [
      "original string data: I want to become a Data Scientist.\n",
      "encrypted string data: r$dzmg$gl$yvxlnv$z$wzgz$hxrvmgrhg\n"
     ]
    }
   ],
   "source": [
    "print(\"original string data:\",str)\n",
    "print(\"encrypted string data:\",estr)"
   ]
  },
  {
   "cell_type": "code",
   "execution_count": null,
   "id": "aabafc97-d2bf-409c-b3af-a87021189b8d",
   "metadata": {},
   "outputs": [],
   "source": []
  },
  {
   "cell_type": "code",
   "execution_count": null,
   "id": "6636f00f-9a49-45be-82a0-d280999d73bf",
   "metadata": {},
   "outputs": [],
   "source": []
  },
  {
   "cell_type": "code",
   "execution_count": null,
   "id": "f49b47b6-29a6-4c9f-86b7-ae26409b8906",
   "metadata": {},
   "outputs": [],
   "source": []
  },
  {
   "cell_type": "code",
   "execution_count": null,
   "id": "49317e91-0cf1-4f95-84a1-80d7f80c91a7",
   "metadata": {},
   "outputs": [],
   "source": []
  },
  {
   "cell_type": "code",
   "execution_count": null,
   "id": "e94c9dab-1722-463d-820a-72d377e699bb",
   "metadata": {},
   "outputs": [],
   "source": []
  },
  {
   "cell_type": "code",
   "execution_count": null,
   "id": "85643cd5-c82e-4924-833e-3b64c1ffffe0",
   "metadata": {},
   "outputs": [],
   "source": []
  },
  {
   "cell_type": "code",
   "execution_count": null,
   "id": "7c617ba1-e883-480f-87dc-12c9d47cc6a3",
   "metadata": {},
   "outputs": [],
   "source": []
  },
  {
   "cell_type": "code",
   "execution_count": null,
   "id": "2aa9a32c-30bc-460c-bd5f-451d69ff01e6",
   "metadata": {},
   "outputs": [],
   "source": []
  },
  {
   "cell_type": "code",
   "execution_count": null,
   "id": "a5f357aa-614e-4229-9b96-62b472a00d3d",
   "metadata": {},
   "outputs": [],
   "source": []
  },
  {
   "cell_type": "code",
   "execution_count": null,
   "id": "d136f036-ae23-45cd-82fe-f1d24da33d44",
   "metadata": {},
   "outputs": [],
   "source": []
  },
  {
   "cell_type": "code",
   "execution_count": null,
   "id": "bb15e3f2-fd87-465c-84db-d540ed12dde5",
   "metadata": {},
   "outputs": [],
   "source": []
  },
  {
   "cell_type": "code",
   "execution_count": null,
   "id": "8bc49a51-fddb-40da-acdf-dbdf2585a794",
   "metadata": {},
   "outputs": [],
   "source": []
  }
 ],
 "metadata": {
  "kernelspec": {
   "display_name": "Python 3 (ipykernel)",
   "language": "python",
   "name": "python3"
  },
  "language_info": {
   "codemirror_mode": {
    "name": "ipython",
    "version": 3
   },
   "file_extension": ".py",
   "mimetype": "text/x-python",
   "name": "python",
   "nbconvert_exporter": "python",
   "pygments_lexer": "ipython3",
   "version": "3.10.8"
  }
 },
 "nbformat": 4,
 "nbformat_minor": 5
}

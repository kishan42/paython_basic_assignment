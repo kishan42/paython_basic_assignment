{
 "cells": [
  {
   "cell_type": "markdown",
   "id": "4062b428-8a0f-40bc-99c2-b563c5df17f1",
   "metadata": {},
   "source": [
    "Q1. Which keyword is used to create a function? Create a function to return a list of odd numbers in the\n",
    "range of 1 to 25."
   ]
  },
  {
   "cell_type": "markdown",
   "id": "c817b6cb-da89-42db-bb9e-1016517295f2",
   "metadata": {},
   "source": [
    "def is use to create the fuunction"
   ]
  },
  {
   "cell_type": "code",
   "execution_count": 1,
   "id": "cc44dd2d-d847-4f0a-9801-a6c07a0f6222",
   "metadata": {},
   "outputs": [],
   "source": [
    "def odd():\n",
    "    l = []\n",
    "    for i in range(1,25):\n",
    "        if i%2 != 0:\n",
    "            l.append(i)\n",
    "    return l\n",
    "        "
   ]
  },
  {
   "cell_type": "code",
   "execution_count": 2,
   "id": "27e12f28-08c0-4902-8b51-90fc426b9db6",
   "metadata": {},
   "outputs": [
    {
     "data": {
      "text/plain": [
       "[1, 3, 5, 7, 9, 11, 13, 15, 17, 19, 21, 23]"
      ]
     },
     "execution_count": 2,
     "metadata": {},
     "output_type": "execute_result"
    }
   ],
   "source": [
    "odd()"
   ]
  },
  {
   "cell_type": "markdown",
   "id": "9ed0972c-7027-46a6-a5d5-62ad99da0961",
   "metadata": {},
   "source": [
    "Q2. Why *args and **kwargs is used in some functions? Create a function each for *args and **kwargs\n",
    "to demonstrate their use."
   ]
  },
  {
   "cell_type": "markdown",
   "id": "c9142969-6958-4a06-a22f-565e2b1c7998",
   "metadata": {},
   "source": [
    "python has *args which allow us to pass the variable number of non keyword argument to function.\n",
    "we should use * before the parameter name to pass variable length arguments.the arguments are passed as the tuple and these passed argument make tuple inside the function with same name as the parameter excluding * ."
   ]
  },
  {
   "cell_type": "markdown",
   "id": "e0735ff3-ef5a-4519-a56a-8148bbb7cfd9",
   "metadata": {},
   "source": [
    "python has **kwargs ehich allow us to pass the variable number of keyword argument to function. we should use ** before the parameter name to pass variable length arguments.the arguments are passed as dictionary and these passed argument make dictionary inside the function with same name as the parameter excluding ** ."
   ]
  },
  {
   "cell_type": "code",
   "execution_count": 4,
   "id": "e5aa7755-6a73-4b19-8f6a-e21d9b12e76a",
   "metadata": {},
   "outputs": [],
   "source": [
    "def sum(*kishan):\n",
    "    sum = 0\n",
    "    for i in kishan:\n",
    "        sum = sum + i\n",
    "    print(sum)"
   ]
  },
  {
   "cell_type": "code",
   "execution_count": 5,
   "id": "14ef13ab-0a70-4ae1-9faa-232dbc7ea50e",
   "metadata": {},
   "outputs": [
    {
     "name": "stdout",
     "output_type": "stream",
     "text": [
      "180\n"
     ]
    }
   ],
   "source": [
    "sum(12,34,56,78)"
   ]
  },
  {
   "cell_type": "code",
   "execution_count": 6,
   "id": "41cee58e-d9c7-45ad-9485-4524965e2194",
   "metadata": {},
   "outputs": [],
   "source": [
    "def prt(**kishan):\n",
    "    for k,v in kishan.items():\n",
    "        print( k,\":\",v)\n",
    "    "
   ]
  },
  {
   "cell_type": "code",
   "execution_count": 7,
   "id": "2966a0a7-3f5d-41a2-bc2a-ecb7385e3573",
   "metadata": {},
   "outputs": [
    {
     "name": "stdout",
     "output_type": "stream",
     "text": [
      "name : kishan\n",
      "number : 42\n",
      "address : {36, 'surat'}\n"
     ]
    }
   ],
   "source": [
    "prt(name='kishan',number=42,address={36,'surat'})"
   ]
  },
  {
   "cell_type": "markdown",
   "id": "cfd2fb14-3bec-47a3-873f-ecc48a14e8cf",
   "metadata": {},
   "source": [
    "Q3. What is an iterator in python? Name the method used to initialise the iterator object and the method\n",
    "used for iteration. Use these methods to print the first five elements of the given list [2, 4, 6, 8, 10, 12, 14,\n",
    "16, 18, 20]."
   ]
  },
  {
   "cell_type": "markdown",
   "id": "ca360fc4-f465-4d41-904d-106eb00798b5",
   "metadata": {},
   "source": [
    "An iterator is an object that contains a countable number of values.\n",
    "The iterator object is initialized using the iter() method. It uses the next() method for iteration."
   ]
  },
  {
   "cell_type": "code",
   "execution_count": 33,
   "id": "d651a7b7-510c-45f9-a26f-c9798d37eb0c",
   "metadata": {},
   "outputs": [
    {
     "name": "stdout",
     "output_type": "stream",
     "text": [
      "2\n",
      "4\n",
      "6\n",
      "8\n",
      "10\n"
     ]
    }
   ],
   "source": [
    "l = [2, 4, 6, 8, 10, 12, 14, 16, 18, 20]\n",
    "\n",
    "l1 = iter(l)\n",
    "count = 0\n",
    "for i in l:\n",
    "    if count < 5:\n",
    "        print(next(l1))\n",
    "    count = count + 1"
   ]
  },
  {
   "cell_type": "markdown",
   "id": "9bf935f4-eb3c-4ba8-8870-0cafc0e75136",
   "metadata": {},
   "source": [
    "Q4. What is a generator function in python? Why yield keyword is used? Give an example of a generator\n",
    "function."
   ]
  },
  {
   "cell_type": "markdown",
   "id": "386e9d37-9763-4462-80f3-f0e2fab9d1e8",
   "metadata": {},
   "source": [
    "generator allow you to define an iterative algorithm by writing a single function whose execution is not continuous."
   ]
  },
  {
   "cell_type": "markdown",
   "id": "08c1683a-6e76-4076-99a4-b6628b9622d5",
   "metadata": {},
   "source": [
    "When called, generator functions do not initially execute their code. Instead, they return a special type of iterator, called a Generator. When a value is consumed by calling the generator's next method, the Generator function executes until it encounters the yield keyword."
   ]
  },
  {
   "cell_type": "markdown",
   "id": "401f3f48-fb4d-4246-9fc3-f1b9c8fab56e",
   "metadata": {},
   "source": [
    "yield keyword is used to create a generator function. A type of function that is memory efficient and can be used like an iterator object."
   ]
  },
  {
   "cell_type": "code",
   "execution_count": 5,
   "id": "50dc6c78-959d-4527-89f1-7455535cd2d8",
   "metadata": {},
   "outputs": [],
   "source": [
    "def sum(n):\n",
    "    i = 0\n",
    "    sum = 0\n",
    "    while i <= n:\n",
    "        sum = sum + n\n",
    "        yield sum\n",
    "        i = i + 1"
   ]
  },
  {
   "cell_type": "code",
   "execution_count": 6,
   "id": "8c067e1a-8272-49e6-8506-07bdb1f6b4d1",
   "metadata": {},
   "outputs": [],
   "source": [
    "c = sum(10)"
   ]
  },
  {
   "cell_type": "code",
   "execution_count": 7,
   "id": "780f6864-7fd5-48f8-9be0-8ffe885bfa8a",
   "metadata": {},
   "outputs": [
    {
     "name": "stdout",
     "output_type": "stream",
     "text": [
      "10\n",
      "20\n",
      "30\n",
      "40\n",
      "50\n",
      "60\n",
      "70\n",
      "80\n",
      "90\n",
      "100\n",
      "110\n"
     ]
    }
   ],
   "source": [
    "for i in c:\n",
    "    print(i)"
   ]
  },
  {
   "cell_type": "markdown",
   "id": "3663fae9-8a1f-45f8-95ef-f5e4d1848cf2",
   "metadata": {},
   "source": [
    "Q5. Create a generator function for prime numbers less than 1000. Use the next() method to print the first 20 prime numbers."
   ]
  },
  {
   "cell_type": "code",
   "execution_count": 46,
   "id": "475fa0ef-0fc8-45ff-8e08-556633d31057",
   "metadata": {},
   "outputs": [],
   "source": [
    "def prime(n):\n",
    "    for i in range(n+1):\n",
    "        if i == 1:\n",
    "            yield i\n",
    "        else:\n",
    "            for j in range(2,i):\n",
    "                if i%j == 0:\n",
    "                    break \n",
    "                else:\n",
    "                    yield i\n",
    "                    break\n",
    "                \n",
    "                                        "
   ]
  },
  {
   "cell_type": "code",
   "execution_count": 49,
   "id": "e393e906-80ba-47c2-b4e0-c394a644b5ee",
   "metadata": {},
   "outputs": [],
   "source": [
    " p = prime(1000)"
   ]
  },
  {
   "cell_type": "code",
   "execution_count": 50,
   "id": "f2ec594f-032c-4e10-bca7-acfce66f084f",
   "metadata": {},
   "outputs": [
    {
     "name": "stdout",
     "output_type": "stream",
     "text": [
      "1\n",
      "3\n",
      "5\n",
      "7\n",
      "9\n",
      "11\n",
      "13\n",
      "15\n",
      "17\n",
      "19\n",
      "21\n",
      "23\n",
      "25\n",
      "27\n",
      "29\n",
      "31\n",
      "33\n",
      "35\n",
      "37\n",
      "39\n",
      "41\n"
     ]
    }
   ],
   "source": [
    "for i in range(21):\n",
    "    print(next(p))"
   ]
  },
  {
   "cell_type": "markdown",
   "id": "9d997abc-aa44-4e67-b79a-2bca7406616c",
   "metadata": {},
   "source": [
    "Q6. Write a python program to print the first 10 Fibonacci numbers using a while loop."
   ]
  },
  {
   "cell_type": "code",
   "execution_count": 58,
   "id": "70c75094-7dcf-4d40-9d38-0ebde9e70676",
   "metadata": {},
   "outputs": [
    {
     "name": "stdout",
     "output_type": "stream",
     "text": [
      "0\n",
      "1\n",
      "1\n",
      "2\n",
      "3\n",
      "5\n",
      "8\n",
      "13\n",
      "21\n",
      "34\n"
     ]
    }
   ],
   "source": [
    "n = 0\n",
    "a,b = 0,1\n",
    "while n < 10:\n",
    "    print(a)\n",
    "    a,b = b,a + b\n",
    "    n = n + 1"
   ]
  },
  {
   "cell_type": "markdown",
   "id": "13f038cc-7e8a-47e5-a8fa-33b4979867d4",
   "metadata": {},
   "source": [
    "Q7. Write a List Comprehension to iterate through the given string: ‘pwskills’.\n",
    "Expected output: ['p', 'w', 's', 'k', 'i', 'l', 'l', 's']"
   ]
  },
  {
   "cell_type": "code",
   "execution_count": 63,
   "id": "5e28e047-1659-437d-8d08-3db732b37db0",
   "metadata": {},
   "outputs": [
    {
     "data": {
      "text/plain": [
       "['p', 'w', 's', 'k', 'i', 'l', 'l', 's']"
      ]
     },
     "execution_count": 63,
     "metadata": {},
     "output_type": "execute_result"
    }
   ],
   "source": [
    "l = 'pwskills'\n",
    "[i for i in l]"
   ]
  },
  {
   "cell_type": "markdown",
   "id": "134f224d-3a57-4ec5-bb7c-53f6c15a4e51",
   "metadata": {},
   "source": [
    "Q8. Write a python program to check whether a given number is Palindrome or not using a while loop."
   ]
  },
  {
   "cell_type": "code",
   "execution_count": 77,
   "id": "cdf18959-f481-4570-82e9-9a45ce2fe8b5",
   "metadata": {},
   "outputs": [
    {
     "name": "stdin",
     "output_type": "stream",
     "text": [
      "enter the string : eye\n"
     ]
    },
    {
     "name": "stdout",
     "output_type": "stream",
     "text": [
      "string is palindrome\n"
     ]
    }
   ],
   "source": [
    "s = input(\"enter the string :\")\n",
    "se = ''\n",
    "i = 0\n",
    "while i < len(s):   \n",
    "    se = se + s[len(s) - 1 -  i]\n",
    "    i = i+1\n",
    "if s == se:\n",
    "    print(\"string is palindrome\")\n",
    "else:\n",
    "    print(\"string is not palindrome\")"
   ]
  },
  {
   "cell_type": "markdown",
   "id": "83a99cf7-2760-4934-899a-2929a9d9b411",
   "metadata": {},
   "source": [
    "Q9. Write a code to print odd numbers from 1 to 100 using list comprehension."
   ]
  },
  {
   "cell_type": "code",
   "execution_count": 79,
   "id": "1a59aa5a-4581-48a9-ad10-36a678cb601d",
   "metadata": {},
   "outputs": [
    {
     "data": {
      "text/plain": [
       "[1,\n",
       " 3,\n",
       " 5,\n",
       " 7,\n",
       " 9,\n",
       " 11,\n",
       " 13,\n",
       " 15,\n",
       " 17,\n",
       " 19,\n",
       " 21,\n",
       " 23,\n",
       " 25,\n",
       " 27,\n",
       " 29,\n",
       " 31,\n",
       " 33,\n",
       " 35,\n",
       " 37,\n",
       " 39,\n",
       " 41,\n",
       " 43,\n",
       " 45,\n",
       " 47,\n",
       " 49,\n",
       " 51,\n",
       " 53,\n",
       " 55,\n",
       " 57,\n",
       " 59,\n",
       " 61,\n",
       " 63,\n",
       " 65,\n",
       " 67,\n",
       " 69,\n",
       " 71,\n",
       " 73,\n",
       " 75,\n",
       " 77,\n",
       " 79,\n",
       " 81,\n",
       " 83,\n",
       " 85,\n",
       " 87,\n",
       " 89,\n",
       " 91,\n",
       " 93,\n",
       " 95,\n",
       " 97,\n",
       " 99]"
      ]
     },
     "execution_count": 79,
     "metadata": {},
     "output_type": "execute_result"
    }
   ],
   "source": [
    "[i for i in range(101) if i%2 != 0]"
   ]
  },
  {
   "cell_type": "code",
   "execution_count": null,
   "id": "e9057c62-c432-4b10-9d28-dab1d9931efc",
   "metadata": {},
   "outputs": [],
   "source": []
  }
 ],
 "metadata": {
  "kernelspec": {
   "display_name": "Python 3 (ipykernel)",
   "language": "python",
   "name": "python3"
  },
  "language_info": {
   "codemirror_mode": {
    "name": "ipython",
    "version": 3
   },
   "file_extension": ".py",
   "mimetype": "text/x-python",
   "name": "python",
   "nbconvert_exporter": "python",
   "pygments_lexer": "ipython3",
   "version": "3.10.8"
  }
 },
 "nbformat": 4,
 "nbformat_minor": 5
}

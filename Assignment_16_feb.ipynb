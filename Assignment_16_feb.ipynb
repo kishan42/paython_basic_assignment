{
 "cells": [
  {
   "cell_type": "markdown",
   "id": "b59cb24d-474c-4887-a079-fd8f62740a64",
   "metadata": {},
   "source": [
    "Q1. What is a database? Differentiate between SQL and NoSQL databases."
   ]
  },
  {
   "cell_type": "markdown",
   "id": "16a01f33-a453-4431-8489-8f0d8202ad1a",
   "metadata": {},
   "source": [
    "A database is an organized collection of structured information, or data, typically stored electronically in a computer system."
   ]
  },
  {
   "cell_type": "markdown",
   "id": "b9e23619-ad6d-46e5-935f-0312cb0860c0",
   "metadata": {},
   "source": [
    "SQL databases display data in form of tables so it is known as table-based database. NoSQL databases display data as collection of key-value pair, documents, graph databases or wide-column stores. SQL databases are vertically scalable. NoSQL databases are horizontally scalable."
   ]
  },
  {
   "cell_type": "markdown",
   "id": "4b916bd9-e65d-416c-9c2a-7a91a8a19c7c",
   "metadata": {},
   "source": [
    "Q2. What is DDL? Explain why CREATE, DROP, ALTER, and TRUNCATE are used with an example."
   ]
  },
  {
   "cell_type": "markdown",
   "id": "478f5ecb-1f16-44b3-b76a-dd44e0e87507",
   "metadata": {},
   "source": [
    "DDL stands for Data Definition Language, which defines the structure or schema of the database. "
   ]
  },
  {
   "cell_type": "markdown",
   "id": "30348342-c344-45bb-a06d-9334554de875",
   "metadata": {},
   "source": [
    "CREATE: This command is used to create the database or its objects (like table, index, function, views, store procedure, and triggers).\n",
    "DROP: This command is used to delete objects from the database.\n",
    "ALTER: This is used to alter the structure of the database.\n",
    "TRUNCATE: This is used to remove all records from a table, including all spaces allocated for the records are removed."
   ]
  },
  {
   "cell_type": "code",
   "execution_count": null,
   "id": "3fecd5a1-dadb-4dc8-bb7a-935b59dddfc6",
   "metadata": {},
   "outputs": [],
   "source": [
    "import mysql.connector\n",
    "\n",
    "mydb = mysql.connector.connect(host=\"localhost\",user=\"root\",password=\"93283Kish@n\")\n",
    "\n",
    "print(mydb)\n",
    "my_cursor = mydb.cursor()\n",
    "my_cursor.execute(\"CREATE DATABASE if not exists test\")\n",
    "my_cursor.execute(\"SHOW DATABASES\")\n",
    "for x in my_cursor:\n",
    "    print(x)\n",
    "#create\n",
    "my_cursor.execute(\"create table if not exists test.test_table(c1 int,c2 varchar(50),c3 float,c4 int,c5 varchar(30))\")\n",
    "my_cursor.execute(\"insert into test.test_table values(123,'asd',34.56,654,'ert')\")\n",
    "mydb.commit()\n",
    "#alter add column\n",
    "my_cursor.execute(\"alter table test.test_table add c6 varchar(255)\")\n",
    "#alter drop column\n",
    "my_cursor.execute(\"alter table test.test_table drop column c6\")\n",
    "#alter modify column\n",
    "my_cursor.execute(\"alter table test.test_table modify c5 varchar(255)\")\n",
    "#truncate \n",
    "my_cursor.execute(\"truncate table test.test_table\")\n",
    "#drop\n",
    "my_cursor.execute(\"drop table test.test_table\")\n",
    "mydb.close()"
   ]
  },
  {
   "cell_type": "markdown",
   "id": "84beee3f-4386-4807-9734-99163839af6b",
   "metadata": {},
   "source": [
    "Q3. What is DML? Explain INSERT, UPDATE, and DELETE with an example."
   ]
  },
  {
   "cell_type": "markdown",
   "id": "913673a6-8995-421c-ba2e-376bf1e2d845",
   "metadata": {},
   "source": [
    "Data Manipulation Language (DML) commands in SQL deal with the manipulation of data records stored within the database tables."
   ]
  },
  {
   "cell_type": "markdown",
   "id": "64930b91-1ac8-43f6-a8c6-ae98077e7e71",
   "metadata": {},
   "source": [
    "INSERT\tUsed to insert new data records or rows in the database table\n",
    "UPDATE\tUsed to set the value of a field or column for a particular record to a new value\n",
    "DELETE\tUsed to remove one or more rows from the database table"
   ]
  },
  {
   "cell_type": "code",
   "execution_count": null,
   "id": "1a1e1112-0c48-464c-89c6-ef5315edc9dc",
   "metadata": {},
   "outputs": [],
   "source": [
    "import mysql.connector\n",
    "\n",
    "mydb = mysql.connector.connect(host=\"localhost\",user=\"root\",password=\"93283Kish@n\")\n",
    "\n",
    "print(mydb)\n",
    "my_cursor = mydb.cursor()\n",
    "my_cursor.execute(\"CREATE DATABASE if not exists test\")\n",
    "my_cursor.execute(\"SHOW DATABASES\")\n",
    "for x in my_cursor:\n",
    "    print(x)\n",
    "my_cursor.execute(\"create table if not exists test.test_table(c1 int,c2 varchar(50),c3 float,c4 int,c5 varchar(30))\")\n",
    "#insert command\n",
    "my_cursor.execute(\"insert into test.test_table values(123,'asd',34.56,654,'ert')\")\n",
    "my_cursor.execute(\"insert into test.test_table values(23,'ad',34.6,65,'et')\")\n",
    "my_cursor.execute(\"insert into test.test_table values(13,'sd',4.56,64,'rt')\")\n",
    "mydb.commit()\n",
    "#update command\n",
    "my_cursor.execute(\"UPDATE test.test_table SET c1=34 WHERE c5='rt'\")\n",
    "mydb.commit()\n",
    "my_cursor.execute(\"delete from test.test_table WHERE c4=65\")\n",
    "mydb.commit()\n",
    "mydb.close()"
   ]
  },
  {
   "cell_type": "markdown",
   "id": "d01b3291-76ee-494e-a765-1adf9ecaa5b2",
   "metadata": {},
   "source": [
    "Q4. What is DQL? Explain SELECT with an example."
   ]
  },
  {
   "cell_type": "markdown",
   "id": "acacd885-925b-4008-ab80-367f9f9ce339",
   "metadata": {},
   "source": [
    "DQL or data query language is to perform the query on the data inside the schema or object."
   ]
  },
  {
   "cell_type": "markdown",
   "id": "2b1f1c41-c2ae-4912-a6d5-ae44edab9047",
   "metadata": {},
   "source": [
    "SELECT\tUsed to query or fetch selected fields or columns from a database table"
   ]
  },
  {
   "cell_type": "code",
   "execution_count": null,
   "id": "521fa754-f179-44d9-9d62-2a28c2b2e86a",
   "metadata": {},
   "outputs": [],
   "source": [
    "import mysql.connector\n",
    "\n",
    "mydb = mysql.connector.connect(host=\"localhost\",user=\"root\",password=\"93283Kish@n\")\n",
    "\n",
    "print(mydb)\n",
    "my_cursor = mydb.cursor()\n",
    "my_cursor.execute(\"select * from collage_db.test_table\")\n",
    "for i in my_cursor.fetchall():\n",
    "    print(i)\n",
    "my_cursor.execute(\"select distinct c4 from collage_db.test_table\")\n",
    "for i in my_cursor.fetchall():\n",
    "    print(i)\n",
    "mydb.close()"
   ]
  },
  {
   "cell_type": "markdown",
   "id": "49daea87-d775-4ec9-9e2c-8eb64788c59f",
   "metadata": {},
   "source": [
    "Q5. Explain Primary Key and Foreign Key."
   ]
  },
  {
   "cell_type": "markdown",
   "id": "49b5238d-af21-4ff0-b6d7-3c8576038e05",
   "metadata": {},
   "source": [
    "A primary key generally focuses on the uniqueness of the table. It assures the value in the specific column is unique. A foreign key is generally used to build a relationship between the two tables. The table allows only one primary key."
   ]
  },
  {
   "cell_type": "markdown",
   "id": "517d86d5-5a43-4dfb-a9f3-f994474fb8f0",
   "metadata": {},
   "source": [
    "Q6. Write a python code to connect MySQL to python. Explain the cursor() and execute() method."
   ]
  },
  {
   "cell_type": "markdown",
   "id": "b37cac01-6e74-4ca6-9c23-1c4cf96b1185",
   "metadata": {},
   "source": [
    "A cursor is an object which helps to execute the query and fetch the records from the database. "
   ]
  },
  {
   "cell_type": "markdown",
   "id": "e624c1fe-5556-4add-92b0-9b5cf7520fe0",
   "metadata": {},
   "source": [
    "execute() Method. This method executes the given database operation (query or command)."
   ]
  },
  {
   "cell_type": "code",
   "execution_count": null,
   "id": "188aa4ef-5657-48c1-a2cf-ce0f95bcec0b",
   "metadata": {},
   "outputs": [],
   "source": [
    "import mysql.connector\n",
    "\n",
    "mydb = mysql.connector.connect(host=\"localhost\",user=\"root\",password=\"93283Kish@n\")\n",
    "\n",
    "print(mydb)\n",
    "my_cursor = mydb.cursor()\n",
    "my_cursor.execute(\"SHOW DATABASES\")\n",
    "for x in my_cursor:\n",
    "    print(x)"
   ]
  },
  {
   "cell_type": "markdown",
   "id": "fba193a0-aa79-4254-bc87-ca48213f93a3",
   "metadata": {},
   "source": [
    "Q7. Give the order of execution of SQL clauses in an SQL query."
   ]
  },
  {
   "cell_type": "markdown",
   "id": "71f72047-175a-4fde-8eeb-649b1968c09b",
   "metadata": {},
   "source": [
    "From the eyes of the user, queries begin from the first clause and end at the last clause. However, queries aren’t actually read from top to bottom when carried out.\n",
    "\n",
    "1. FROM/JOIN: The FROM and/or JOIN clauses are executed first to determine the data of interest.\n",
    "\n",
    "2. WHERE: The WHERE clause is executed to filter out records that do not meet the constraints.\n",
    "\n",
    "3. GROUP BY: The GROUP BY clause is executed to group the data based on the values in one or more columns.\n",
    "\n",
    "4. HAVING: The HAVING clause is executed to remove the created grouped records that don’t meet the constraints.\n",
    "\n",
    "5. SELECT: The SELECT clause is executed to derive all desired columns and expressions.\n",
    "\n",
    "6. ORDER BY: The ORDER BY clause is executed to sort the derived values in ascending or descending order.\n",
    "\n",
    "7. LIMIT/OFFSET: Finally, the LIMIT and/or OFFSET clauses are executed to keep or skip a specified number of rows."
   ]
  },
  {
   "cell_type": "code",
   "execution_count": null,
   "id": "102827ea-beef-46e2-9781-b84da476201e",
   "metadata": {},
   "outputs": [],
   "source": []
  }
 ],
 "metadata": {
  "kernelspec": {
   "display_name": "Python 3 (ipykernel)",
   "language": "python",
   "name": "python3"
  },
  "language_info": {
   "codemirror_mode": {
    "name": "ipython",
    "version": 3
   },
   "file_extension": ".py",
   "mimetype": "text/x-python",
   "name": "python",
   "nbconvert_exporter": "python",
   "pygments_lexer": "ipython3",
   "version": "3.10.8"
  }
 },
 "nbformat": 4,
 "nbformat_minor": 5
}

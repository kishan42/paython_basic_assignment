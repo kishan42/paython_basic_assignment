{
 "cells": [
  {
   "cell_type": "markdown",
   "id": "97f9118b-d86a-4f43-ad16-63177c6eb267",
   "metadata": {},
   "source": [
    "Q1. what is multithreading in python? why is it used? Name the module used to handle threads in python."
   ]
  },
  {
   "cell_type": "markdown",
   "id": "31d71909-49e7-4170-8108-fbb4625fec42",
   "metadata": {},
   "source": [
    "Multithreading is the ability of a program or an operating system to enable more than one user at a time without requiring multiple copies of the program running on the computer."
   ]
  },
  {
   "cell_type": "markdown",
   "id": "23750c02-6b09-4c24-9084-87638a41e5b6",
   "metadata": {},
   "source": [
    "It is a very useful technique for time-saving and improving the performance of an application. Multithreading allows the programmer to divide application tasks into sub-tasks and simultaneously run them in a program. "
   ]
  },
  {
   "cell_type": "markdown",
   "id": "0fee0ef6-70e8-48ef-9dd6-3f582155770e",
   "metadata": {},
   "source": [
    "threading module used to handle threads in python"
   ]
  },
  {
   "cell_type": "markdown",
   "id": "c6f3302d-58f2-4b94-b1d3-2c16246e6533",
   "metadata": {},
   "source": [
    "Q2.why threading module used? write the use of the following functions.\n",
    "a.activeCount()\n",
    "b.currentThread()\n",
    "c.enumerate()"
   ]
  },
  {
   "cell_type": "markdown",
   "id": "874c1cc0-47fe-40df-88ec-07de841d571a",
   "metadata": {},
   "source": [
    "threading module is used for creating, controlling and managing threads in python."
   ]
  },
  {
   "cell_type": "markdown",
   "id": "967c58d0-4a1f-4c3d-93ac-cc742ac4604b",
   "metadata": {},
   "source": [
    "active_count() is an inbuilt method of the threading module in Python. It is used to return the number of Thread objects that are active at any instant."
   ]
  },
  {
   "cell_type": "markdown",
   "id": "129875ac-e44b-4472-a231-f74313ee4454",
   "metadata": {},
   "source": [
    "current_thread() is an inbuilt method of the threading module in Python. It is used to return the current Thread object, which corresponds to the caller's thread of control."
   ]
  },
  {
   "cell_type": "markdown",
   "id": "c6675028-4fc2-4fd1-999a-62eae9f994e4",
   "metadata": {},
   "source": [
    "enumerate() − Returns a list of all thread objects that are currently active."
   ]
  },
  {
   "cell_type": "markdown",
   "id": "392429d9-51dc-4553-89e5-f1626dd24dbb",
   "metadata": {},
   "source": [
    "Q3. Explain the following functions:\n",
    "run()\n",
    "start()\n",
    "join()\n",
    "isAlive()"
   ]
  },
  {
   "cell_type": "markdown",
   "id": "e2a475c5-face-40e7-91fa-cd16c2d11db7",
   "metadata": {},
   "source": [
    "run() − The run() method is the entry point for a thread.\n",
    "start() − The start() method starts a thread by calling the run method.\n",
    "isAlive() − The isAlive() method checks whether a thread is still executing."
   ]
  },
  {
   "cell_type": "markdown",
   "id": "148b9618-7780-432f-bbab-a5a6c27529ef",
   "metadata": {},
   "source": [
    "Q4. Write a python program to create two threads. Thread one must print the list of squares and thread\n",
    "two must print the list of cubes"
   ]
  },
  {
   "cell_type": "code",
   "execution_count": 3,
   "id": "dff59ce9-48a9-47f3-9a76-f61dc3edad25",
   "metadata": {},
   "outputs": [
    {
     "name": "stdout",
     "output_type": "stream",
     "text": [
      "1000\n",
      "100\n"
     ]
    }
   ],
   "source": [
    "import threading\n",
    "\n",
    "def cube(num):\n",
    "    print(num**3)\n",
    "    \n",
    "def square(num):\n",
    "    print(num**2)\n",
    "\n",
    "t1 = threading.Thread(target=cube,args=(10,))\n",
    "t2 = threading.Thread(target=square,args=(10,))\n",
    "\n",
    "t1.start()\n",
    "t2.start()"
   ]
  },
  {
   "cell_type": "markdown",
   "id": "5e85196e-5594-4d42-ab64-985f0c6b86ae",
   "metadata": {},
   "source": [
    "Q5. State advantages and disadvantages of multithreading."
   ]
  },
  {
   "cell_type": "markdown",
   "id": "c0db3bdf-d821-44fe-93f3-404988f9e7a2",
   "metadata": {},
   "source": [
    "Advantages:\n",
    "Thread switching does not require Kernel mode privileges.\n",
    "User level thread can run on any operating system.\n",
    "Scheduling can be application specific in the user level thread.\n",
    "User level threads are fast to create and manage.\n",
    "\n",
    "Disadvantages:\n",
    "In a typical operating system, most system calls are blocking.\n",
    "Multithreaded application cannot take advantage of multiprocessing."
   ]
  },
  {
   "cell_type": "markdown",
   "id": "bb56fb69-a456-4c3f-82eb-07a189633517",
   "metadata": {},
   "source": [
    "Q6. Explain deadlocks and race conditions."
   ]
  },
  {
   "cell_type": "markdown",
   "id": "20079c09-d661-473c-8f4d-070655bb574d",
   "metadata": {},
   "source": [
    "A race condition occurs when two threads use the same variable at a given time. Deadlock exists when two threads seek one lock simultaneously. This situation will stop both threads from processing or executing the functions."
   ]
  },
  {
   "cell_type": "code",
   "execution_count": null,
   "id": "a392f19e-8d01-461b-901e-e0979db60719",
   "metadata": {},
   "outputs": [],
   "source": []
  }
 ],
 "metadata": {
  "kernelspec": {
   "display_name": "Python 3 (ipykernel)",
   "language": "python",
   "name": "python3"
  },
  "language_info": {
   "codemirror_mode": {
    "name": "ipython",
    "version": 3
   },
   "file_extension": ".py",
   "mimetype": "text/x-python",
   "name": "python",
   "nbconvert_exporter": "python",
   "pygments_lexer": "ipython3",
   "version": "3.10.8"
  }
 },
 "nbformat": 4,
 "nbformat_minor": 5
}

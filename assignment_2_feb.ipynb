{
 "cells": [
  {
   "cell_type": "markdown",
   "id": "a71e9246-1f4f-47ec-bb59-5e8a5d18b4d5",
   "metadata": {},
   "source": [
    "Q1. Explain with an example each when to use a for loop and a while loop."
   ]
  },
  {
   "cell_type": "markdown",
   "id": "c6ffd3f3-75ff-4278-8d3f-329b425faf3b",
   "metadata": {},
   "source": [
    "Ans. when we already know how many times loop or statement has to be executed then we use a for loop. that's why we have specify the ending point in the for loop intialization.\n",
    "when we need to end the loop on a condition other than the number of times, we use while loop."
   ]
  },
  {
   "cell_type": "code",
   "execution_count": 1,
   "id": "3ebb4966-5098-4189-aa02-34715404ea60",
   "metadata": {},
   "outputs": [
    {
     "name": "stdout",
     "output_type": "stream",
     "text": [
      "1\n",
      "2\n",
      "3\n",
      "4\n"
     ]
    }
   ],
   "source": [
    "for i in range(1,5): \n",
    "    print(i)"
   ]
  },
  {
   "cell_type": "code",
   "execution_count": 2,
   "id": "13a240e3-f305-4358-aa90-28d489d36bdb",
   "metadata": {},
   "outputs": [
    {
     "name": "stdout",
     "output_type": "stream",
     "text": [
      "0\n",
      "1\n",
      "2\n",
      "3\n",
      "4\n",
      "5\n"
     ]
    }
   ],
   "source": [
    "j = 0\n",
    "while  j< 6:\n",
    "    print(j)\n",
    "    j += 1"
   ]
  },
  {
   "cell_type": "markdown",
   "id": "9dbf036a-1eda-434f-a843-6f0098be9d90",
   "metadata": {},
   "source": [
    "Q2. Write a python program to print the sum and product of the first 10 natural numbers using for\n",
    "and while loop."
   ]
  },
  {
   "cell_type": "code",
   "execution_count": 4,
   "id": "0bf044e7-11b9-43c9-b9c4-0304c33b5009",
   "metadata": {},
   "outputs": [
    {
     "name": "stdout",
     "output_type": "stream",
     "text": [
      "55 3628800\n"
     ]
    }
   ],
   "source": [
    "sum,product = 0,1\n",
    "for i in range(1,11):\n",
    "    sum = sum + i;\n",
    "    product = product*i;\n",
    "print(sum,product)"
   ]
  },
  {
   "cell_type": "code",
   "execution_count": 2,
   "id": "29fdf4a5-f5be-4fc2-b141-f23b92efa8b0",
   "metadata": {},
   "outputs": [
    {
     "name": "stdout",
     "output_type": "stream",
     "text": [
      "55 3628800\n"
     ]
    }
   ],
   "source": [
    "j,sum,product = 1,0,1\n",
    "while j < 11:\n",
    "    sum = sum + j;\n",
    "    product = product*j;\n",
    "    j += 1\n",
    "print(sum,product)"
   ]
  },
  {
   "cell_type": "markdown",
   "id": "cae1e1fe-5099-4db7-81c1-9529c96afeb5",
   "metadata": {},
   "source": [
    "Q3. Create a python program to compute the electricity bill for a household.\n",
    "The per-unit charges in rupees are as follows: For the first 100 units, the user will be charged Rs. 4.5 per\n",
    "unit, for the next 100 units, the user will be charged Rs. 6 per unit, and for the next 100 units, the user will\n",
    "be charged Rs. 10 per unit, After 300 units and above the user will be charged Rs. 20 per unit.\n",
    "You are required to take the units of electricity consumed in a month from the user as input.\n",
    "Your program must pass this test case: when the unit of electricity consumed by the user in a month is\n",
    "310, the total electricity bill should be 2250."
   ]
  },
  {
   "cell_type": "code",
   "execution_count": 15,
   "id": "eab98acd-cffe-4390-8839-f399cdd36810",
   "metadata": {},
   "outputs": [
    {
     "name": "stdin",
     "output_type": "stream",
     "text": [
      "Enter the Unit of electricity : 310\n"
     ]
    },
    {
     "name": "stdout",
     "output_type": "stream",
     "text": [
      "electricity bill : 2250.0\n"
     ]
    }
   ],
   "source": [
    "Unit = int(input(\"Enter the Unit of electricity :\"))\n",
    "bill = 0\n",
    "for i in range(1,Unit+1):\n",
    "    if i <= 100:\n",
    "        bill = bill + 4.5\n",
    "    elif i > 100 and i <= 200:\n",
    "        bill = bill + 6\n",
    "    elif i > 200 and i <= 300:\n",
    "        bill = bill + 10\n",
    "    elif i > 300:\n",
    "        bill = bill + 20\n",
    "print(\"electricity bill :\",bill)\n",
    "      "
   ]
  },
  {
   "cell_type": "markdown",
   "id": "29224d4c-9b6d-42ea-8ef0-7e6f2508335b",
   "metadata": {},
   "source": [
    "Q4. Create a list of numbers from 1 to 100. Use for loop and while loop to calculate the cube of each number and if the cube of that number is divisible by 4 or 5 then append that number in a list and print\n",
    "that list."
   ]
  },
  {
   "cell_type": "code",
   "execution_count": 24,
   "id": "2c1bdf05-221b-4395-bcdb-4232a8815f1c",
   "metadata": {},
   "outputs": [
    {
     "name": "stdout",
     "output_type": "stream",
     "text": [
      "[8, 64, 125, 216, 512, 1000, 1728, 2744, 3375, 4096, 5832, 8000, 10648, 13824, 15625, 17576, 21952, 27000, 32768, 39304, 42875, 46656, 54872, 64000, 74088, 85184, 91125, 97336, 110592, 125000, 140608, 157464, 166375, 175616, 195112, 216000, 238328, 262144, 274625, 287496, 314432, 343000, 373248, 405224, 421875, 438976, 474552, 512000, 551368, 592704, 614125, 636056, 681472, 729000, 778688, 830584, 857375, 884736, 941192, 1000000]\n"
     ]
    }
   ],
   "source": [
    "l = list(range(1,101))\n",
    "j = []\n",
    "for i in l:\n",
    "    k = i**3\n",
    "    if k%4 == 0 or k%5 == 0:\n",
    "        j.append(k)\n",
    "print(j)"
   ]
  },
  {
   "cell_type": "code",
   "execution_count": 26,
   "id": "3d9e4691-e278-458b-8914-8f2ab021559d",
   "metadata": {},
   "outputs": [
    {
     "name": "stdout",
     "output_type": "stream",
     "text": [
      "[8, 64, 125, 216, 512, 1000, 1728, 2744, 3375, 4096, 5832, 8000, 10648, 13824, 15625, 17576, 21952, 27000, 32768, 39304, 42875, 46656, 54872, 64000, 74088, 85184, 91125, 97336, 110592, 125000, 140608, 157464, 166375, 175616, 195112, 216000, 238328, 262144, 274625, 287496, 314432, 343000, 373248, 405224, 421875, 438976, 474552, 512000, 551368, 592704, 614125, 636056, 681472, 729000, 778688, 830584, 857375, 884736, 941192, 1000000]\n"
     ]
    }
   ],
   "source": [
    "l = list(range(1,101))\n",
    "j = []\n",
    "i = 1\n",
    "while i < len(l) + 1:\n",
    "    k = i**3\n",
    "    if k%4 == 0 or k%5 == 0:\n",
    "        j.append(k)\n",
    "    i += 1\n",
    "print(j)"
   ]
  },
  {
   "cell_type": "markdown",
   "id": "6232c3da-1de9-4e43-8e15-29975a0971ca",
   "metadata": {},
   "source": [
    "Q5. Write a program to filter count vowels in the below-given string.string = \"I want to become a data scientist\""
   ]
  },
  {
   "cell_type": "code",
   "execution_count": null,
   "id": "8926b0a8-418f-45ca-a51a-b63ca3bf3f03",
   "metadata": {},
   "outputs": [],
   "source": [
    "string =  \"I want to become a data scientist\"\n",
    "count = 0\n",
    "for i in string.lower():\n",
    "    if i in [a,e,i,o,u]:\n",
    "        count = count + 1\n",
    "print(count)"
   ]
  },
  {
   "cell_type": "code",
   "execution_count": null,
   "id": "8e7478b9-ed9d-4d6d-8bd4-ddfb1562ec1a",
   "metadata": {},
   "outputs": [],
   "source": []
  }
 ],
 "metadata": {
  "kernelspec": {
   "display_name": "Python 3 (ipykernel)",
   "language": "python",
   "name": "python3"
  },
  "language_info": {
   "codemirror_mode": {
    "name": "ipython",
    "version": 3
   },
   "file_extension": ".py",
   "mimetype": "text/x-python",
   "name": "python",
   "nbconvert_exporter": "python",
   "pygments_lexer": "ipython3",
   "version": "3.10.8"
  }
 },
 "nbformat": 4,
 "nbformat_minor": 5
}

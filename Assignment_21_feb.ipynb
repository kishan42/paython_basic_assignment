{
 "cells": [
  {
   "cell_type": "markdown",
   "id": "395d0a64-709b-497b-92d9-0238fed4ea56",
   "metadata": {},
   "source": [
    "What is Web Scraping? Why is it Used? Give three areas where Web Scraping is used to get data."
   ]
  },
  {
   "cell_type": "markdown",
   "id": "87e8c5da-939f-461d-b9d4-1e689b0136b4",
   "metadata": {},
   "source": [
    "Web scraping is the process of using bots to extract content and data from a website.\n",
    "Unlike screen scraping, which only copies pixels displayed onscreen, web scraping extracts underlying HTML code and, with it, data stored in a database. The scraper can then replicate entire website content elsewhere."
   ]
  },
  {
   "cell_type": "markdown",
   "id": "7a42edb6-a940-4c93-a270-3cec794c5328",
   "metadata": {},
   "source": [
    "Web scraping can be used to collect data about products for sale, user posts, images, and pretty much anything else that is useful on the web. If using a web scraper, just keep in mind that some websites do not want anyone to scrape their sites and when a website updates, you may need to alter your web scraper."
   ]
  },
  {
   "cell_type": "markdown",
   "id": "0f87923a-03ae-49e4-8716-07d3d9acbd29",
   "metadata": {},
   "source": [
    "Applications of web scraping tools\n",
    "Analyzing social media web data. Applying machine learning techniques. Gathering web data automatically. Researching new concepts in a field."
   ]
  },
  {
   "cell_type": "markdown",
   "id": "6d15f3f8-24c4-4f5a-9445-203aa0cfdeb3",
   "metadata": {},
   "source": [
    "Q2. What are the different methods used for Web Scraping?"
   ]
  },
  {
   "cell_type": "markdown",
   "id": "27ad6801-7b16-4db1-b0b1-13e19d0608af",
   "metadata": {},
   "source": [
    "The most common techniques used for Web Scraping are\n",
    "Human copy-and-paste.\n",
    "Text pattern matching.\n",
    "HTTP programming.\n",
    "HTML parsing.\n",
    "DOM parsing.\n",
    "Vertical aggregation.\n",
    "Semantic annotation recognizing.\n",
    "Computer vision web-page analysis."
   ]
  },
  {
   "cell_type": "markdown",
   "id": "f0f5d6bf-b024-46da-bd7b-3a5f63793fa2",
   "metadata": {},
   "source": [
    "Q3. What is Beautiful Soup? Why is it used?"
   ]
  },
  {
   "cell_type": "markdown",
   "id": "d1607239-3510-4709-90c2-81b2983b3e49",
   "metadata": {},
   "source": [
    "Beautiful Soup is a Python library that makes it easy to scrape information from web pages. It sits atop an HTML or XML parser and provides Pythonic idioms for iterating, searching, and modifying the parse tree."
   ]
  },
  {
   "cell_type": "markdown",
   "id": "d452422b-b982-456c-808e-d46e0a2a86c0",
   "metadata": {},
   "source": [
    "The Beautiful Soup library helps with isolating titles and links from webpages. It can extract all of the text from ​HTML tags, and alter the HTML ​in the document with which we’re working."
   ]
  },
  {
   "cell_type": "markdown",
   "id": "02133f05-64c7-46ea-8eef-808e739a6b5d",
   "metadata": {},
   "source": [
    "Q4. Why is flask used in this Web Scraping project?"
   ]
  },
  {
   "cell_type": "markdown",
   "id": "314adf9f-d94e-4380-b92b-2229f2c3a984",
   "metadata": {},
   "source": [
    "Primarily they use it to create powerful backend web applications which can handle data quickly. They can also employ it for activities as varied as data scraping, machine learning, and artificial intelligence."
   ]
  },
  {
   "cell_type": "markdown",
   "id": "b4845747-e49c-4c6b-9c42-c444b638ad28",
   "metadata": {},
   "source": [
    "Q5. Write the names of AWS services used in this project. Also, explain the use of each service."
   ]
  },
  {
   "cell_type": "markdown",
   "id": "ae70d95d-9c18-496d-a00f-9115ca0edb21",
   "metadata": {},
   "source": [
    "AWS CodePipeline is a continuous delivery service you can use to model, visualize, and automate the steps required to release your software. You can quickly model and configure the different stages of a software release process. CodePipeline automates the steps required to release your software changes continuously."
   ]
  },
  {
   "cell_type": "markdown",
   "id": "77c15ae8-707d-4e46-abb9-fb52f9e08c7b",
   "metadata": {},
   "source": [
    "Elastic Beanstalk is a service for deploying and scaling web applications and services. Upload your code and Elastic Beanstalk automatically handles the deployment—from capacity provisioning, load balancing, and auto scaling to application health monitoring."
   ]
  },
  {
   "cell_type": "code",
   "execution_count": null,
   "id": "8f0b6695-b634-4ee9-825d-6d4a70937788",
   "metadata": {},
   "outputs": [],
   "source": []
  }
 ],
 "metadata": {
  "kernelspec": {
   "display_name": "Python 3 (ipykernel)",
   "language": "python",
   "name": "python3"
  },
  "language_info": {
   "codemirror_mode": {
    "name": "ipython",
    "version": 3
   },
   "file_extension": ".py",
   "mimetype": "text/x-python",
   "name": "python",
   "nbconvert_exporter": "python",
   "pygments_lexer": "ipython3",
   "version": "3.10.8"
  }
 },
 "nbformat": 4,
 "nbformat_minor": 5
}

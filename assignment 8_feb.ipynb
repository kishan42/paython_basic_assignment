{
 "cells": [
  {
   "cell_type": "markdown",
   "id": "aef6b72a-7efa-40f9-a0bb-8cc479835899",
   "metadata": {},
   "source": [
    "What is Abstraction in OOps? Explain with an example."
   ]
  },
  {
   "cell_type": "markdown",
   "id": "4c71a116-478e-4cca-b8da-ddc44134b38c",
   "metadata": {},
   "source": [
    "Abstraction is the concept of object-oriented programming that “shows” only essential attributes and “hides” unnecessary information. The main purpose of abstraction is hiding the unnecessary details from the users. Abstraction is selecting data from a larger pool to show only relevant details of the object to the user."
   ]
  },
  {
   "cell_type": "markdown",
   "id": "a48e7fdf-c039-4871-9552-0e6cf42b6984",
   "metadata": {},
   "source": [
    "Differentiate between Abstraction and Encapsulation. Explain with an example."
   ]
  },
  {
   "cell_type": "markdown",
   "id": "1a2b735a-1ab3-427c-8252-b738185c49fa",
   "metadata": {},
   "source": [
    "Abstraction is a feature of OOPs that hides the unnecessary detail but shows the essential information.Encapsulation is also a feature of OOPs. It hides the code and data into a single entity or unit so that the data can be protected from the outside world.\n",
    "example :- "
   ]
  },
  {
   "cell_type": "code",
   "execution_count": 18,
   "id": "2f7eba69-727a-45f8-b331-5c289f80d765",
   "metadata": {},
   "outputs": [],
   "source": [
    "import abc\n",
    "class student:\n",
    "    @abc.abstractmethod\n",
    "    def student_details(self):\n",
    "        self.name = name\n",
    "        self.roll = roll\n",
    "        \n",
    "    \n",
    "    @abc.abstractmethod\n",
    "    def student_marks(self):\n",
    "        self.marks = marks\n",
    "        "
   ]
  },
  {
   "cell_type": "code",
   "execution_count": 22,
   "id": "9d710ff1-51d5-4d75-8e6c-16a21e969415",
   "metadata": {},
   "outputs": [],
   "source": [
    "class pratik(student): \n",
    "    def student_details(self,name):\n",
    "        print(\"my name is \",name)\n",
    "    \n",
    "    def student_marks(self,marks):\n",
    "        print(\"my marks is \",marks)\n",
    "    \n",
    "class kishan(student):\n",
    "    def student_details(self,name,roll):\n",
    "        print(\"my name is \",name,\"and roll is \",roll)       \n",
    "        \n",
    "    def student_marks(self,marks):\n",
    "        print(\"my marks is \",marks) "
   ]
  },
  {
   "cell_type": "code",
   "execution_count": 23,
   "id": "3dde73b5-09a5-4eca-9b7d-38bee03fff50",
   "metadata": {},
   "outputs": [
    {
     "name": "stdout",
     "output_type": "stream",
     "text": [
      "my name is  pratik\n",
      "my marks is  23\n"
     ]
    }
   ],
   "source": [
    "p = pratik()\n",
    "p.student_details('pratik')\n",
    "p.student_marks(23)"
   ]
  },
  {
   "cell_type": "code",
   "execution_count": 24,
   "id": "6b7d9e33-0d8c-4a89-942b-1b229e078732",
   "metadata": {},
   "outputs": [
    {
     "name": "stdout",
     "output_type": "stream",
     "text": [
      "my name is  kishan and roll is  123\n",
      "my marks is  65\n"
     ]
    }
   ],
   "source": [
    "k = kishan()\n",
    "k.student_details('kishan',123)\n",
    "k.student_marks(65)"
   ]
  },
  {
   "cell_type": "code",
   "execution_count": 29,
   "id": "c7e07019-f2f3-4e70-bd29-250ecac2fa3a",
   "metadata": {},
   "outputs": [],
   "source": [
    "class car:\n",
    "    def __init__(self,year,make,model,speed):\n",
    "        \n",
    "        self.__year = year\n",
    "        self.__make = make\n",
    "        self.__model = model\n",
    "        self.__speed = 0\n",
    "        \n",
    "    def set_speed(self,speed):\n",
    "        self.__speed = 0 if speed < 0 else speed\n",
    "    \n",
    "    def get_speed(self):\n",
    "        return self.__speed\n",
    "    \n",
    "    def details(self):\n",
    "        print(self.__year,\"\",self.__make,\"\",self.__model,\"\",self.__speed)"
   ]
  },
  {
   "cell_type": "code",
   "execution_count": 30,
   "id": "4b5a2e4e-cede-4652-a22c-ab9dda616868",
   "metadata": {},
   "outputs": [],
   "source": [
    "c = car(2020,'wer','a12',234)"
   ]
  },
  {
   "cell_type": "code",
   "execution_count": 42,
   "id": "e23a03f0-2601-45b5-8abd-cc95d7e098ea",
   "metadata": {},
   "outputs": [],
   "source": [
    "c.set_speed(1234)"
   ]
  },
  {
   "cell_type": "code",
   "execution_count": 43,
   "id": "92c50aed-5d68-44f0-93a3-98ab5f41b98f",
   "metadata": {},
   "outputs": [
    {
     "data": {
      "text/plain": [
       "1234"
      ]
     },
     "execution_count": 43,
     "metadata": {},
     "output_type": "execute_result"
    }
   ],
   "source": [
    "c.get_speed()"
   ]
  },
  {
   "cell_type": "code",
   "execution_count": 44,
   "id": "5413771f-f720-4171-be50-c344ceb7ce1b",
   "metadata": {},
   "outputs": [
    {
     "name": "stdout",
     "output_type": "stream",
     "text": [
      "2021  wer  a12  1234\n"
     ]
    }
   ],
   "source": [
    "c.details()"
   ]
  },
  {
   "cell_type": "markdown",
   "id": "67f80269-ca14-434b-b590-dfc97385c58c",
   "metadata": {},
   "source": [
    "What is abc module in python? Why is it used?"
   ]
  },
  {
   "cell_type": "markdown",
   "id": "74dde7ff-afde-4295-9ef7-4cefab2b9076",
   "metadata": {},
   "source": [
    "the ABCMeta metaclass provided by the abstract base class. The rule is every abstract class must use ABCMeta metaclass.ABCMeta metaclass provides a method called register method that can be invoked by its instance.\n",
    "\n",
    "The main goal of the abstract base class is to provide a standardized way to test whether an object adheres to a given specification. It can also prevent any attempt to instantiate a subclass that doesn’t override a particular method in the superclass. And finally, using an abstract class, a class can derive identity from another class without any object inheritance."
   ]
  },
  {
   "cell_type": "markdown",
   "id": "7dd14c27-915e-4491-a6b6-a16fa57e13c2",
   "metadata": {},
   "source": [
    "How can we achieve data abstraction ?"
   ]
  },
  {
   "cell_type": "markdown",
   "id": "c118141d-3e4d-42ba-b7c5-c72153a612f1",
   "metadata": {},
   "source": [
    "Data Abstraction in Python can be achieved through creating abstract classes and inheriting them later. "
   ]
  },
  {
   "cell_type": "markdown",
   "id": "ba14408e-3aab-4351-bb41-878a35b0611e",
   "metadata": {},
   "source": [
    "Can we create an instance of an abstract class? Explain your answer."
   ]
  },
  {
   "cell_type": "markdown",
   "id": "033cef7c-a9e2-4198-ac15-088e33f81be2",
   "metadata": {},
   "source": [
    "we can't create instance of abstract class because of abstract class is not complated class. it is only define declaration of abstract methods but dosn't have a implementation of any method so we cant create instance or object of abstract class. If we try to instantiate the abstract class, it raises an error."
   ]
  },
  {
   "cell_type": "code",
   "execution_count": null,
   "id": "9f58356b-9638-497c-a6da-6d53d8da907b",
   "metadata": {},
   "outputs": [],
   "source": []
  }
 ],
 "metadata": {
  "kernelspec": {
   "display_name": "Python 3 (ipykernel)",
   "language": "python",
   "name": "python3"
  },
  "language_info": {
   "codemirror_mode": {
    "name": "ipython",
    "version": 3
   },
   "file_extension": ".py",
   "mimetype": "text/x-python",
   "name": "python",
   "nbconvert_exporter": "python",
   "pygments_lexer": "ipython3",
   "version": "3.10.8"
  }
 },
 "nbformat": 4,
 "nbformat_minor": 5
}

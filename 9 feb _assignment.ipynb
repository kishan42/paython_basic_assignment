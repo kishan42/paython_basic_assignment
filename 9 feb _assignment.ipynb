{
 "cells": [
  {
   "cell_type": "markdown",
   "id": "5ddb39fe-25f3-4f1a-b69e-d8520dac361b",
   "metadata": {},
   "source": [
    "Q1, Create a vehicle class with an init method having instance variables as name_of_vehicle, max_speed\n",
    "and average_of_vehicle."
   ]
  },
  {
   "cell_type": "code",
   "execution_count": 2,
   "id": "1a08e72f-fbcd-48bc-a5de-d3f62201a5d9",
   "metadata": {},
   "outputs": [],
   "source": [
    "class vehicle:\n",
    "    \n",
    "    def __init__(self,name,speed,average):\n",
    "        self.name_of_vehicle = name\n",
    "        self.max_speed = speed\n",
    "        self.average_of_vehicle = average\n",
    "    \n",
    "    def details(self):\n",
    "        return self.name_of_vehicle,self.max_speed,self.average_of_vehicle      "
   ]
  },
  {
   "cell_type": "code",
   "execution_count": 3,
   "id": "6c1858de-e537-4d19-b635-38395636a02e",
   "metadata": {},
   "outputs": [
    {
     "data": {
      "text/plain": [
       "('honda', 150, 23)"
      ]
     },
     "execution_count": 3,
     "metadata": {},
     "output_type": "execute_result"
    }
   ],
   "source": [
    "a = vehicle(\"honda\",150,23)\n",
    "a.details()"
   ]
  },
  {
   "cell_type": "markdown",
   "id": "14e7dced-4e11-4c46-8c44-22f094364755",
   "metadata": {},
   "source": [
    "Q2. Create a child class car from the vehicle class created in Que 1, which will inherit the vehicle class.\n",
    "Create a method named seating_capacity which takes capacity as an argument and returns the name of\n",
    "the vehicle and its seating capacity."
   ]
  },
  {
   "cell_type": "code",
   "execution_count": 8,
   "id": "facfabd0-dc2a-4dde-842b-99898d81812a",
   "metadata": {},
   "outputs": [],
   "source": [
    "class car(vehicle):\n",
    "    \n",
    "    def seating_capacity(self,*args):\n",
    "        self.capacity = args[0]\n",
    "        return self.name_of_vehicle,self.capacity"
   ]
  },
  {
   "cell_type": "code",
   "execution_count": 9,
   "id": "5c258a5b-48ec-4da2-b634-7fc3070daea9",
   "metadata": {},
   "outputs": [
    {
     "data": {
      "text/plain": [
       "('ahonda', 5)"
      ]
     },
     "execution_count": 9,
     "metadata": {},
     "output_type": "execute_result"
    }
   ],
   "source": [
    "b = car(\"ahonda\",120,20)\n",
    "b.seating_capacity(5)"
   ]
  },
  {
   "cell_type": "markdown",
   "id": "2bc038d1-4144-423d-a01b-6d3800f5db29",
   "metadata": {},
   "source": [
    "When a class is derived from more than one base class it is called multiple Inheritance. The derived class inherits all the features of the base case.Q3. What is multiple inheritance? Write a python code to demonstrate multiple inheritance."
   ]
  },
  {
   "cell_type": "markdown",
   "id": "30ae1f5e-34b6-48fd-8cbf-2e54a5c90c3f",
   "metadata": {},
   "source": [
    "When a class is derived from more than one base class it is called multiple Inheritance. The derived class inherits all the features of the base case."
   ]
  },
  {
   "cell_type": "code",
   "execution_count": 1,
   "id": "bb48b598-300a-4cf0-9596-40c20d36b27c",
   "metadata": {},
   "outputs": [],
   "source": [
    "class vehicle:\n",
    "    \n",
    "    def __init__(self,name,speed,average):\n",
    "        self.name_of_vehicle = name\n",
    "        self.max_speed = speed\n",
    "        self.average_of_vehicle = average\n",
    "    \n",
    "    def details(self):\n",
    "        return self.name_of_vehicle,self.max_speed,self.average_of_vehicle      "
   ]
  },
  {
   "cell_type": "code",
   "execution_count": 4,
   "id": "ec8c1e0d-a259-4f48-b54b-409d728b805c",
   "metadata": {},
   "outputs": [],
   "source": [
    "class fly:\n",
    "    \n",
    "    def __init__(self,speed,average):\n",
    "        self.max_speed = speed\n",
    "        self.average_of_vehicle = average\n",
    "    \n",
    "    def details(self):\n",
    "        return self.max_speed,self.average_of_vehicle"
   ]
  },
  {
   "cell_type": "code",
   "execution_count": 5,
   "id": "32c90620-4bd9-426b-9911-57e427c3e117",
   "metadata": {},
   "outputs": [],
   "source": [
    "class aeroplane(vehicle,fly):\n",
    "    pass"
   ]
  },
  {
   "cell_type": "code",
   "execution_count": 11,
   "id": "9fa6dbf0-3769-450c-85c7-a2011f1f0cd5",
   "metadata": {},
   "outputs": [
    {
     "data": {
      "text/plain": [
       "(123, 45)"
      ]
     },
     "execution_count": 11,
     "metadata": {},
     "output_type": "execute_result"
    }
   ],
   "source": [
    "obj = aeroplane(\"ashaman\",123,45)\n",
    "obj.details()\n",
    "fly.details(obj)"
   ]
  },
  {
   "cell_type": "markdown",
   "id": "2424cc0c-cd56-43dd-859f-a432e078e62c",
   "metadata": {},
   "source": [
    "Q4. What are getter and setter in python? Create a class and create a getter and a setter method in this\n",
    "class."
   ]
  },
  {
   "cell_type": "markdown",
   "id": "7328dc8a-6898-4a82-9b7d-9386f9dbbc33",
   "metadata": {},
   "source": [
    "Getter: A method that allows you to access an attribute in a given class\n",
    "       \n",
    "Setter: A method that allows you to set or mutate the value of an attribute in a class"
   ]
  },
  {
   "cell_type": "code",
   "execution_count": 20,
   "id": "7719d05a-142a-43ff-9a54-f9c131a85bd7",
   "metadata": {},
   "outputs": [],
   "source": [
    "class test:\n",
    "    \n",
    "    def set_value(self,name,e_no):\n",
    "        self.__name = name\n",
    "        self.__e_no = e_no\n",
    "        \n",
    "    def get_value(self):\n",
    "        return self.__name,self.__e_no"
   ]
  },
  {
   "cell_type": "code",
   "execution_count": 21,
   "id": "1b32806d-8654-4313-b0da-1faf80cf3af7",
   "metadata": {},
   "outputs": [],
   "source": [
    "a = test()"
   ]
  },
  {
   "cell_type": "code",
   "execution_count": 22,
   "id": "8c36facb-7797-45a0-83d1-d96cd2c4bc47",
   "metadata": {},
   "outputs": [
    {
     "data": {
      "text/plain": [
       "('ert', 430)"
      ]
     },
     "execution_count": 22,
     "metadata": {},
     "output_type": "execute_result"
    }
   ],
   "source": [
    "a.set_value(\"ert\",430)\n",
    "a.get_value()"
   ]
  },
  {
   "cell_type": "markdown",
   "id": "e77711af-830f-470a-b64e-96d0ea9faa22",
   "metadata": {},
   "source": [
    "Q5.What is method overriding in python? Write a python code to demonstrate method overriding."
   ]
  },
  {
   "cell_type": "markdown",
   "id": "de60f340-960b-44f2-9705-91e567a1da98",
   "metadata": {},
   "source": [
    "When a child class method overrides(or, provides it's own implementation) the parent class method of the same name, parameters and return type, it is known as method overriding."
   ]
  },
  {
   "cell_type": "code",
   "execution_count": 1,
   "id": "bd862c20-5400-4d9a-8042-35e1225660d6",
   "metadata": {},
   "outputs": [],
   "source": [
    "class shape:  \n",
    "    def area(self):\n",
    "        print(\"area of shape\")\n",
    "        \n",
    "    def dimension(self):\n",
    "        print(\"dimenstion of shape\")\n",
    "\n",
    "class square(shape):\n",
    "    def area(self):\n",
    "        print(\"area of square is squre of line\")\n",
    "        \n",
    "    def color(self):\n",
    "        print(\"color of square is red\")"
   ]
  },
  {
   "cell_type": "code",
   "execution_count": 3,
   "id": "752d8c0d-46ec-488a-b5ef-10b484953f9d",
   "metadata": {},
   "outputs": [
    {
     "name": "stdout",
     "output_type": "stream",
     "text": [
      "area of square is squre of line\n",
      "dimenstion of shape\n"
     ]
    }
   ],
   "source": [
    "b = square()\n",
    "b.area()\n",
    "b.dimension()"
   ]
  }
 ],
 "metadata": {
  "kernelspec": {
   "display_name": "Python 3 (ipykernel)",
   "language": "python",
   "name": "python3"
  },
  "language_info": {
   "codemirror_mode": {
    "name": "ipython",
    "version": 3
   },
   "file_extension": ".py",
   "mimetype": "text/x-python",
   "name": "python",
   "nbconvert_exporter": "python",
   "pygments_lexer": "ipython3",
   "version": "3.10.8"
  }
 },
 "nbformat": 4,
 "nbformat_minor": 5
}

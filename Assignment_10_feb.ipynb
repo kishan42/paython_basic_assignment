{
 "cells": [
  {
   "cell_type": "markdown",
   "id": "2351e740-81d2-475a-8c3b-33acd4eea943",
   "metadata": {},
   "source": [
    "Which function is used to open a file? What are the different modes of opening a file? Explain each mode\n",
    "of file opening."
   ]
  },
  {
   "cell_type": "code",
   "execution_count": null,
   "id": "8e847134-fb9a-4a56-8172-5d39483e34d4",
   "metadata": {},
   "outputs": [],
   "source": [
    "with open('file_name','mode') as f:\n",
    "    a = json.load(f)"
   ]
  },
  {
   "cell_type": "markdown",
   "id": "039c8327-6597-4b66-8cc5-a69e87ff41a0",
   "metadata": {},
   "source": [
    "r - reading a file ,\n",
    "w - write in file ,\n",
    "a - append text in file ,\n",
    "rb,wb - read or write file in binary"
   ]
  },
  {
   "cell_type": "code",
   "execution_count": 2,
   "id": "5234f335-64f7-4b90-b8ac-b7cc9bef4d62",
   "metadata": {},
   "outputs": [],
   "source": [
    "data = {\n",
    "    'name' : 'sudh',\n",
    "    'mail_id' : 'sudh@gmail.com',\n",
    "    'phone_no' : 2134336546,\n",
    "    'subject' : ['data science' , 'big data','data science']\n",
    "}"
   ]
  },
  {
   "cell_type": "code",
   "execution_count": 3,
   "id": "c62e724a-8eff-4190-91b2-9fb075b34ebc",
   "metadata": {},
   "outputs": [],
   "source": [
    "import json\n",
    "\n",
    "with open('data.json','w') as f:\n",
    "    json.dump(data,f)"
   ]
  },
  {
   "cell_type": "code",
   "execution_count": 5,
   "id": "e06ea3ed-0765-4a88-944f-6a5838b7bd86",
   "metadata": {},
   "outputs": [
    {
     "data": {
      "text/plain": [
       "{'name': 'sudh',\n",
       " 'mail_id': 'sudh@gmail.com',\n",
       " 'phone_no': 2134336546,\n",
       " 'subject': ['data science', 'big data', 'data science']}"
      ]
     },
     "execution_count": 5,
     "metadata": {},
     "output_type": "execute_result"
    }
   ],
   "source": [
    "with open('data.json','r') as f:\n",
    "    details = json.load(f)\n",
    "details"
   ]
  },
  {
   "cell_type": "code",
   "execution_count": 18,
   "id": "ed65930d-20ac-45a2-9ee8-7265926fa0b5",
   "metadata": {},
   "outputs": [],
   "source": [
    "import csv\n",
    "with open('data.csv','w') as f:\n",
    "    writer = csv.writer(f)\n",
    "    \n",
    "    for i in data:\n",
    "        writer.writerow(i)"
   ]
  },
  {
   "cell_type": "code",
   "execution_count": 14,
   "id": "58c810c2-c8e1-4f20-ac4c-3440192de3ee",
   "metadata": {},
   "outputs": [
    {
     "name": "stdout",
     "output_type": "stream",
     "text": [
      "['n', 'a', 'm', 'e']\n",
      "['m', 'a', 'i', 'l', '_', 'i', 'd']\n",
      "['p', 'h', 'o', 'n', 'e', '_', 'n', 'o']\n",
      "['s', 'u', 'b', 'j', 'e', 'c', 't']\n"
     ]
    }
   ],
   "source": [
    "with open('data.csv','r') as f:\n",
    "    readdata = csv.reader(f)\n",
    "    \n",
    "    for i in readdata:\n",
    "        print(i)"
   ]
  },
  {
   "cell_type": "code",
   "execution_count": 15,
   "id": "951179d1-f5a1-4e02-9049-b261ef8d8b7c",
   "metadata": {},
   "outputs": [],
   "source": [
    "with open('text10.bin','wb') as f:\n",
    "    f.write(b\"\\x01\\x02\\x03\\x2134sad6\")"
   ]
  },
  {
   "cell_type": "code",
   "execution_count": 16,
   "id": "d8efcab6-6c6b-4735-a2f5-e1afc54c91ff",
   "metadata": {},
   "outputs": [
    {
     "name": "stdout",
     "output_type": "stream",
     "text": [
      "b'\\x01\\x02\\x03!34sad6'\n"
     ]
    }
   ],
   "source": [
    "with open('text10.bin','rb') as f:\n",
    "    print(f.read())"
   ]
  },
  {
   "cell_type": "markdown",
   "id": "2751f9e5-2097-4b38-8bb0-3cd4fcd3f1e8",
   "metadata": {},
   "source": [
    "Why close() function is used? Why is it important to close a file?"
   ]
  },
  {
   "cell_type": "markdown",
   "id": "7e7db370-52ea-4771-a49c-5847dd76be0d",
   "metadata": {},
   "source": [
    "The close() method closes an open file. You should always close your files, in some cases, due to buffering, changes made to a file may not show until you close the file."
   ]
  },
  {
   "cell_type": "markdown",
   "id": "70f0dd9e-f31e-49ab-a2e8-edafa8f54fab",
   "metadata": {},
   "source": [
    "files are limited resources managed by the operating system, making sure files are closed after use will protect against hard-to-debug issues like running out of file handles or experiencing corrupted data. The best defense is always to open files with a context manager."
   ]
  },
  {
   "cell_type": "markdown",
   "id": "3d76c102-82fe-4d11-aa15-d1b939be9144",
   "metadata": {},
   "source": [
    "Write a python program to create a text file. Write ‘I want to become a Data Scientist’ in that file. Then\n",
    "close the file. Open this file and read the content of the file."
   ]
  },
  {
   "cell_type": "code",
   "execution_count": 2,
   "id": "630da322-2d29-400d-a863-d5eec969db69",
   "metadata": {},
   "outputs": [],
   "source": [
    "with open('text12.text','w') as f:\n",
    "    f.write('I want to become a Data Scientist')"
   ]
  },
  {
   "cell_type": "code",
   "execution_count": 4,
   "id": "4b9c00c5-5e5e-4254-94ac-d4f289cb38f9",
   "metadata": {},
   "outputs": [
    {
     "name": "stdout",
     "output_type": "stream",
     "text": [
      "I want to become a Data Scientist\n"
     ]
    }
   ],
   "source": [
    "with open('text12.text','r') as f:\n",
    "    print(f.read())"
   ]
  },
  {
   "cell_type": "markdown",
   "id": "ff59c9b8-cf8b-4550-af25-c0eb4afa8594",
   "metadata": {},
   "source": [
    "Explain the following with python code: read(), readline() and readlines()."
   ]
  },
  {
   "cell_type": "code",
   "execution_count": 7,
   "id": "cfdf2f3a-9ab1-4176-aa4e-20c3d3ffa627",
   "metadata": {},
   "outputs": [
    {
     "name": "stdout",
     "output_type": "stream",
     "text": [
      "2023-03-07 09:58:07,505 this is my info message\n",
      "2023-03-07 09:58:07,506 this is my error mdg\n",
      "2023-03-07 09:58:07,506 this is my critical\n",
      "\n"
     ]
    }
   ],
   "source": [
    "with open('test1.log','r') as f:\n",
    "    print(f.read())"
   ]
  },
  {
   "cell_type": "code",
   "execution_count": 8,
   "id": "8644b41e-f56a-4622-91bc-cfdca173e7da",
   "metadata": {},
   "outputs": [
    {
     "name": "stdout",
     "output_type": "stream",
     "text": [
      "2023-03-07 09:58:07,505 this is my info message\n",
      "\n"
     ]
    }
   ],
   "source": [
    "with open('test1.log','r') as f:\n",
    "    print(f.readline())"
   ]
  },
  {
   "cell_type": "code",
   "execution_count": 15,
   "id": "0b9ee731-8fb8-488c-a888-408b7fca9bed",
   "metadata": {},
   "outputs": [
    {
     "name": "stdout",
     "output_type": "stream",
     "text": [
      "['2023-03-07 09:58:07,505 this is my info message\\n', '2023-03-07 09:58:07,506 this is my error mdg\\n', '2023-03-07 09:58:07,506 this is my critical\\n']\n"
     ]
    }
   ],
   "source": [
    "with open('test1.log','r') as f:\n",
    "    print(f.readlines())"
   ]
  },
  {
   "cell_type": "code",
   "execution_count": 18,
   "id": "f4da880f-899a-44fe-9910-eec4fe6e2e09",
   "metadata": {},
   "outputs": [
    {
     "name": "stdout",
     "output_type": "stream",
     "text": [
      "['2023-03-07 09:58:07,505 this is my info message\\n', '2023-03-07 09:58:07,506 this is my error mdg\\n']\n"
     ]
    }
   ],
   "source": [
    "with open('test1.log','r') as f:\n",
    "    print(f.readlines(50))"
   ]
  },
  {
   "cell_type": "markdown",
   "id": "e166d8f7-56e1-4ca7-9a86-bfe08e1ccd96",
   "metadata": {},
   "source": [
    "Explain why with statement is used with open(). What is the advantage of using with statement and\n",
    "open() together?"
   ]
  },
  {
   "cell_type": "markdown",
   "id": "4212a2cd-a879-4712-aa61-99cd41b6af95",
   "metadata": {},
   "source": [
    "The with statement works with the open() function to open a file. Unlike open() where you have to close the file with the close() method, the with statement closes the file for you without you telling it to."
   ]
  },
  {
   "cell_type": "markdown",
   "id": "bd7f3c8a-3777-45e9-a7a6-8fc4c1bbad74",
   "metadata": {},
   "source": [
    "Explain the write() and writelines() functions. Give a suitable example."
   ]
  },
  {
   "cell_type": "markdown",
   "id": "388b9385-9fab-45f7-8192-c1e2a3a275d0",
   "metadata": {},
   "source": [
    "the write() function will write the content in the file without adding any extra characters. writelines() function writes the content of a list to a file."
   ]
  },
  {
   "cell_type": "code",
   "execution_count": 22,
   "id": "8b15aa27-c7b4-4fa2-b78c-9c60e8be07bd",
   "metadata": {},
   "outputs": [
    {
     "name": "stdin",
     "output_type": "stream",
     "text": [
      "Enter the name of the employee:  asd\n",
      "Enter the name of the employee:  ert\n",
      "Enter the name of the employee:  rty\n"
     ]
    }
   ],
   "source": [
    "file = open(\"Employees.txt\", \"w\")\n",
    "  \n",
    "for i in range(3):\n",
    "   name = input(\"Enter the name of the employee: \")\n",
    "   file.write(name)\n",
    "   file.write(\"\\n\")\n",
    "     \n",
    "file.close()"
   ]
  },
  {
   "cell_type": "code",
   "execution_count": 1,
   "id": "71d05475-d9c2-4e5f-83b0-e2ae2d8515ef",
   "metadata": {},
   "outputs": [
    {
     "name": "stdin",
     "output_type": "stream",
     "text": [
      "Enter the name of the employee:  ert\n",
      "Enter the name of the employee:  tyu\n",
      "Enter the name of the employee:  tre\n"
     ]
    }
   ],
   "source": [
    "file1 = open(\"Employees1.txt\", \"w\")\n",
    "lst = []\n",
    "for i in range(3):\n",
    "    name = input(\"Enter the name of the employee: \")\n",
    "    lst.append(name + '\\n')\n",
    "      \n",
    "file1.writelines(lst)\n",
    "file1.close()"
   ]
  },
  {
   "cell_type": "code",
   "execution_count": null,
   "id": "95db04ad-6183-406a-9ce9-d205d1ad80fe",
   "metadata": {},
   "outputs": [],
   "source": []
  },
  {
   "cell_type": "code",
   "execution_count": null,
   "id": "29f751bb-5f75-45a1-b290-a8799dc185d5",
   "metadata": {},
   "outputs": [],
   "source": []
  }
 ],
 "metadata": {
  "kernelspec": {
   "display_name": "Python 3 (ipykernel)",
   "language": "python",
   "name": "python3"
  },
  "language_info": {
   "codemirror_mode": {
    "name": "ipython",
    "version": 3
   },
   "file_extension": ".py",
   "mimetype": "text/x-python",
   "name": "python",
   "nbconvert_exporter": "python",
   "pygments_lexer": "ipython3",
   "version": "3.10.8"
  }
 },
 "nbformat": 4,
 "nbformat_minor": 5
}

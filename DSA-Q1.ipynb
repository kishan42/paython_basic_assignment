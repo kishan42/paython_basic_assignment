{
 "cells": [
  {
   "cell_type": "markdown",
   "id": "6bc2d0ad-cc3f-49ed-938d-0d35826e8dbf",
   "metadata": {},
   "source": [
    "Move Zeroes\n",
    "Given an integer array nums, move all 0's to the end of it while maintaining the relative order of the non-zero elements.\n",
    "\n",
    "Note that you must do this in-place without making a copy of the array.\n",
    "\n",
    "Example 1:\n",
    "Input: nums = [0,1,0,3,12]\n",
    "Output: [1,3,12,0,0]\n",
    "\n",
    "Example 2:\n",
    "Input: nums = [0]\n",
    "Output: [0]\n",
    "\n",
    "Constraints:\n",
    "a. 1 <= nums.length <= 10^4\n",
    "b. -2^31 <= nums[i] <= 2^31 - 1"
   ]
  },
  {
   "cell_type": "code",
   "execution_count": 23,
   "id": "3c2e89ae-128a-4503-a815-b75f8f970d94",
   "metadata": {},
   "outputs": [
    {
     "name": "stdin",
     "output_type": "stream",
     "text": [
      " 0 1 0 3 12\n"
     ]
    },
    {
     "name": "stdout",
     "output_type": "stream",
     "text": [
      "[1, 3, 12, 0, 0]\n"
     ]
    }
   ],
   "source": [
    "nums = list(map(int,input().split()))\n",
    "def z(nums):\n",
    "    \n",
    "    count = nums.count(0)\n",
    "    a = len(nums)\n",
    "    \n",
    "    while len(nums) != a-count:\n",
    "        nums.remove(0)\n",
    "    \n",
    "    while count > 0:\n",
    "        nums.append(0)\n",
    "        count -= 1\n",
    "    \n",
    "    print(nums)\n",
    "\n",
    "z(nums)"
   ]
  },
  {
   "cell_type": "code",
   "execution_count": null,
   "id": "cfeba5ab-2392-4fbf-8135-8edbc091e222",
   "metadata": {},
   "outputs": [],
   "source": []
  },
  {
   "cell_type": "markdown",
   "id": "655efc47-ef16-4677-b2b3-54a3002c5af7",
   "metadata": {},
   "source": [
    "First Unique Character in a String\n",
    "\n",
    "Given a string s, find the first non-repeating character in it and return its index. If it does not exist, return -1.\n",
    "\n",
    "Example 1:\n",
    "Input: s = \"leetcode\"\n",
    "Output: 0\n",
    "\n",
    "Example 2:\n",
    "Input: s = \"loveleetcode\"\n",
    "Output: 2\n",
    "\n",
    "Example 3:\n",
    "Input: s = \"aabb\"\n",
    "Output: -1\n",
    "\n",
    "Constraints:\n",
    "a. 1 <= s.length <= 10^5\n",
    "b. s consists of only lowercase English letters."
   ]
  },
  {
   "cell_type": "code",
   "execution_count": 34,
   "id": "67741790-d9fb-4b2e-aac3-1bb5cd966598",
   "metadata": {},
   "outputs": [
    {
     "name": "stdin",
     "output_type": "stream",
     "text": [
      " aabb\n"
     ]
    },
    {
     "name": "stdout",
     "output_type": "stream",
     "text": [
      "-1\n"
     ]
    }
   ],
   "source": [
    "s = input()\n",
    "\n",
    "def d(s):\n",
    "    \n",
    "    for i in s: \n",
    "        if s.count(i) == 1:\n",
    "            print(s.index(i))\n",
    "            break\n",
    "    else:\n",
    "        print(-1)\n",
    "            \n",
    "d(s)"
   ]
  },
  {
   "cell_type": "code",
   "execution_count": null,
   "id": "af09c9c9-32f8-46c9-bc60-3eff239e7fc3",
   "metadata": {},
   "outputs": [],
   "source": []
  }
 ],
 "metadata": {
  "kernelspec": {
   "display_name": "Python 3 (ipykernel)",
   "language": "python",
   "name": "python3"
  },
  "language_info": {
   "codemirror_mode": {
    "name": "ipython",
    "version": 3
   },
   "file_extension": ".py",
   "mimetype": "text/x-python",
   "name": "python",
   "nbconvert_exporter": "python",
   "pygments_lexer": "ipython3",
   "version": "3.10.8"
  }
 },
 "nbformat": 4,
 "nbformat_minor": 5
}

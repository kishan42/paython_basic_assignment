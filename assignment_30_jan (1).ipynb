{
 "cells": [
  {
   "cell_type": "markdown",
   "id": "16d62ebf-1d70-4927-a948-795f8deb1ce8",
   "metadata": {},
   "source": [
    "Q.1 write program to accept percentage from the user and display the grade according to the following criteria :"
   ]
  },
  {
   "cell_type": "code",
   "execution_count": 3,
   "id": "2d3c6612-9650-48b3-8782-4b73743cbae7",
   "metadata": {},
   "outputs": [
    {
     "name": "stdin",
     "output_type": "stream",
     "text": [
      "Enter the marks : 91\n"
     ]
    },
    {
     "name": "stdout",
     "output_type": "stream",
     "text": [
      "grade : A\n"
     ]
    }
   ],
   "source": [
    "marks = int(input(\"Enter the marks :\"))\n",
    "\n",
    "if marks > 90:\n",
    "    grade = 'A'\n",
    "elif marks > 80 and marks <= 90:\n",
    "    grade = 'B'\n",
    "elif marks >= 60 and marks <= 80:\n",
    "    grade = 'C'\n",
    "elif marks < 60:\n",
    "    grade = 'D'\n",
    "else:\n",
    "    print(\"marks is incorrect\")\n",
    "\n",
    "print(\"grade :\",grade)"
   ]
  },
  {
   "cell_type": "markdown",
   "id": "e18ce289-4e44-4028-a556-f5e3e188a3f7",
   "metadata": {},
   "source": [
    "Q.2 write a program to accept the cost price of a bike and display the road tax to be paid according tk the following criteria:"
   ]
  },
  {
   "cell_type": "code",
   "execution_count": 5,
   "id": "96d22ebb-5458-4521-a3e1-a9505766ce85",
   "metadata": {},
   "outputs": [
    {
     "name": "stdin",
     "output_type": "stream",
     "text": [
      "Enter the cost prize : 100010\n"
     ]
    },
    {
     "name": "stdout",
     "output_type": "stream",
     "text": [
      "Tax : 15 %\n"
     ]
    }
   ],
   "source": [
    "prize = int(input(\"Enter the cost prize :\"))\n",
    "\n",
    "if prize > 100000:\n",
    "    tax = 15\n",
    "elif prize > 50000 and prize <= 100000:\n",
    "    tax = 10\n",
    "elif marks <= 50000:\n",
    "    tax = 5\n",
    "else:\n",
    "    print(\"prize is incorrect\")\n",
    "\n",
    "print(\"Tax :\",tax,\"%\")"
   ]
  },
  {
   "cell_type": "markdown",
   "id": "c77da228-cb34-4fc6-80d3-aee3eeaed3c0",
   "metadata": {},
   "source": [
    "Q.3 accept ant city from the user and display monuments of that city."
   ]
  },
  {
   "cell_type": "code",
   "execution_count": 6,
   "id": "9cfb257b-8edc-44fd-8698-1522dc2ce23d",
   "metadata": {},
   "outputs": [
    {
     "name": "stdin",
     "output_type": "stream",
     "text": [
      "Enter the city from {Delhi,Agra,Jaipur} : Agra\n"
     ]
    },
    {
     "name": "stdout",
     "output_type": "stream",
     "text": [
      "Monument : Taj Mahal\n"
     ]
    }
   ],
   "source": [
    "city = input(\"Enter the city from {Delhi,Agra,Jaipur} :\")\n",
    "\n",
    "if city == 'Delhi':\n",
    "    Monument = 'Red Fort'\n",
    "elif city == 'Agra':\n",
    "    Monument = 'Taj Mahal'\n",
    "elif city == 'Jaipur':\n",
    "    Monument = 'Jal Mahal'\n",
    "else:\n",
    "    print(\"City is wrong\")\n",
    "\n",
    "print(\"Monument :\",Monument)"
   ]
  },
  {
   "cell_type": "markdown",
   "id": "35dda23e-26e0-493e-bfc6-5ccf2fba6c86",
   "metadata": {},
   "source": [
    "Q.4 check how many times a given number can be divided by 3 before it is less than or equal to 10."
   ]
  },
  {
   "cell_type": "code",
   "execution_count": null,
   "id": "3e022488-24b7-4031-aa6a-900d24a8ea67",
   "metadata": {},
   "outputs": [
    {
     "name": "stdin",
     "output_type": "stream",
     "text": [
      "Enter the Number : 333\n"
     ]
    }
   ],
   "source": [
    "num = int(input(\"Enter the Number :\"))\n",
    "count = 0\n",
    "while num >= 10:\n",
    "    if(num%3 == 0):\n",
    "        num = num/3\n",
    "        count = count + 1\n",
    "print(\"number of time divisibal:\",count)"
   ]
  },
  {
   "cell_type": "markdown",
   "id": "96594fc7-aec2-4cad-9580-0274840a1073",
   "metadata": {},
   "source": [
    "Q.5 why and when to use while loop in python give a detailed description with example."
   ]
  },
  {
   "cell_type": "markdown",
   "id": "4f2a5c76-5293-43ce-ad54-30d51e77d239",
   "metadata": {},
   "source": [
    "python while loop is use to run a block code until the certain condition is true.while loop evaluates the condition.if condition evaluates to true, the code inside the while loop is executed."
   ]
  },
  {
   "cell_type": "code",
   "execution_count": 1,
   "id": "2a38c5ad-cbca-4fc9-a549-028204010749",
   "metadata": {},
   "outputs": [
    {
     "name": "stdout",
     "output_type": "stream",
     "text": [
      "1\n",
      "2\n",
      "3\n",
      "4\n",
      "5\n"
     ]
    }
   ],
   "source": [
    "i = 1\n",
    "n = 5\n",
    "while i <= n:\n",
    "    print(i)\n",
    "    i = i + 1"
   ]
  },
  {
   "cell_type": "markdown",
   "id": "3680853d-f94a-4288-9d3a-7a00c40b6844",
   "metadata": {},
   "source": [
    "Q.6 use nested while loop to print 3 different pattern."
   ]
  },
  {
   "cell_type": "code",
   "execution_count": 8,
   "id": "0a6645b0-3efd-42f8-acd4-20d533d01006",
   "metadata": {},
   "outputs": [
    {
     "name": "stdin",
     "output_type": "stream",
     "text": [
      "enter the number : 5\n"
     ]
    },
    {
     "name": "stdout",
     "output_type": "stream",
     "text": [
      "1 \n",
      "2 2 \n",
      "3 3 3 \n",
      "4 4 4 4 \n",
      "5 5 5 5 5 \n"
     ]
    }
   ],
   "source": [
    "n = int(input(\"enter the number :\"))\n",
    "i = 1\n",
    "while i <= n:\n",
    "    j = 1\n",
    "    while j<=i:\n",
    "        print(i,end=\" \")\n",
    "        j = j + 1\n",
    "    print()\n",
    "    i = i + 1"
   ]
  },
  {
   "cell_type": "code",
   "execution_count": 11,
   "id": "a7fd1f73-7c29-4151-a563-233dff8dd60b",
   "metadata": {},
   "outputs": [
    {
     "name": "stdin",
     "output_type": "stream",
     "text": [
      "enter the number : 5\n"
     ]
    },
    {
     "name": "stdout",
     "output_type": "stream",
     "text": [
      "1 2 3 4 5 \n",
      "1 2 3 4 \n",
      "1 2 3 \n",
      "1 2 \n",
      "1 \n"
     ]
    }
   ],
   "source": [
    "n = int(input(\"enter the number :\"))\n",
    "\n",
    "while n > 0:\n",
    "    j = 1\n",
    "    while j<=n:\n",
    "        print(j,end=\" \")\n",
    "        j = j + 1\n",
    "    print()\n",
    "    n = n - 1"
   ]
  },
  {
   "cell_type": "code",
   "execution_count": 14,
   "id": "6f9c9b88-b755-429f-98ca-f05e23d8ab64",
   "metadata": {},
   "outputs": [
    {
     "name": "stdin",
     "output_type": "stream",
     "text": [
      "enter the number : 10\n"
     ]
    },
    {
     "name": "stdout",
     "output_type": "stream",
     "text": [
      "        *           \n",
      "      * * *         \n",
      "    *   *   *       \n",
      "  *     *     *     \n",
      "*       *       *   \n",
      "        *         * \n",
      "        *           \n",
      "        *           \n",
      "        *           \n",
      "        *           \n",
      "        *           \n"
     ]
    }
   ],
   "source": [
    "n = int(input(\"enter the number :\"))\n",
    "k = 0\n",
    "while k <= n:\n",
    "    j = 1\n",
    "    while j<=n:\n",
    "        if j == n/2 or j == (n/2) - k or j == (n/2) + k :\n",
    "            print(\"*\",end=\" \")\n",
    "        else:\n",
    "            print(\" \",end=\" \")\n",
    "        j = j + 1\n",
    "    print()\n",
    "    k = k + 1\n",
    "    "
   ]
  },
  {
   "cell_type": "markdown",
   "id": "653cee27-ea21-455c-9bf3-8222880b2ed9",
   "metadata": {},
   "source": [
    "Q.7 reverse a while loop to display number from 10 to 1."
   ]
  },
  {
   "cell_type": "code",
   "execution_count": 15,
   "id": "8939e4e3-685c-4be9-8e1a-e2c3e302a445",
   "metadata": {},
   "outputs": [
    {
     "name": "stdin",
     "output_type": "stream",
     "text": [
      "enter the number : 10\n"
     ]
    },
    {
     "name": "stdout",
     "output_type": "stream",
     "text": [
      "10\n",
      "9\n",
      "8\n",
      "7\n",
      "6\n",
      "5\n",
      "4\n",
      "3\n",
      "2\n",
      "1\n"
     ]
    }
   ],
   "source": [
    "n = int(input(\"enter the number :\"))\n",
    "while n > 0:\n",
    "    print(n)\n",
    "    n = n - 1"
   ]
  },
  {
   "cell_type": "markdown",
   "id": "154cbf4a-64d9-4465-b278-135046486688",
   "metadata": {},
   "source": [
    "Q.8 reverse a while loop to display numbers from 10 to 1."
   ]
  },
  {
   "cell_type": "code",
   "execution_count": 16,
   "id": "b6a95ef8-d13d-4488-ac38-0cf65e6b66f6",
   "metadata": {},
   "outputs": [
    {
     "name": "stdin",
     "output_type": "stream",
     "text": [
      "enter the number : 19\n"
     ]
    },
    {
     "name": "stdout",
     "output_type": "stream",
     "text": [
      "19\n",
      "18\n",
      "17\n",
      "16\n",
      "15\n",
      "14\n",
      "13\n",
      "12\n",
      "11\n",
      "10\n",
      "9\n",
      "8\n",
      "7\n",
      "6\n",
      "5\n",
      "4\n",
      "3\n",
      "2\n",
      "1\n"
     ]
    }
   ],
   "source": [
    "n = int(input(\"enter the number :\"))\n",
    "while n > 0:\n",
    "    print(n)\n",
    "    n = n - 1"
   ]
  },
  {
   "cell_type": "code",
   "execution_count": null,
   "id": "967af927-0f28-4e7e-852c-5bb554563e13",
   "metadata": {},
   "outputs": [],
   "source": []
  }
 ],
 "metadata": {
  "kernelspec": {
   "display_name": "Python 3 (ipykernel)",
   "language": "python",
   "name": "python3"
  },
  "language_info": {
   "codemirror_mode": {
    "name": "ipython",
    "version": 3
   },
   "file_extension": ".py",
   "mimetype": "text/x-python",
   "name": "python",
   "nbconvert_exporter": "python",
   "pygments_lexer": "ipython3",
   "version": "3.10.8"
  }
 },
 "nbformat": 4,
 "nbformat_minor": 5
}

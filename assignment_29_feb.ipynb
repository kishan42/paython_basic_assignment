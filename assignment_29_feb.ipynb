{
 "cells": [
  {
   "cell_type": "markdown",
   "id": "1937fbdd-c574-489b-b967-822060162c88",
   "metadata": {},
   "source": [
    "Q.1 who developed python programming language?"
   ]
  },
  {
   "cell_type": "markdown",
   "id": "6133580f-0501-4e8b-bd02-044fd6e28f03",
   "metadata": {},
   "source": [
    "python developed by Guido van Rossum in Netherlands and released in 1991."
   ]
  },
  {
   "cell_type": "markdown",
   "id": "48c03a1b-c78b-4e33-b555-4eb48c8ae583",
   "metadata": {},
   "source": [
    "Q.2 which type of Programming does python support? "
   ]
  },
  {
   "cell_type": "markdown",
   "id": "135f5abb-029b-4d79-86b7-f05b53cfdf5b",
   "metadata": {},
   "source": [
    "Python is an interpreted programming language, supporting object-oriented, structured, and functional programming."
   ]
  },
  {
   "cell_type": "markdown",
   "id": "e5af49e1-0ea2-415e-b8d2-abdc388d8367",
   "metadata": {},
   "source": [
    "Q.3 is python case sensitive when dealing with identifiers?"
   ]
  },
  {
   "cell_type": "markdown",
   "id": "7f4a2e86-57ac-414f-b745-e8e8a57177cd",
   "metadata": {},
   "source": [
    "yes, python is case senseitive language. it treats uppercase and lowwer case characters differently.\n",
    "this applies to identifiers. we must avoid using same name with different case while namind identifiers."
   ]
  },
  {
   "cell_type": "markdown",
   "id": "0673884e-3d97-446b-9fae-37ca9ec13b37",
   "metadata": {},
   "source": [
    "Q.4 what is correct extension of the python file ?"
   ]
  },
  {
   "cell_type": "markdown",
   "id": "44ab2bb3-10e2-4d97-80cc-4eac68f72d59",
   "metadata": {},
   "source": [
    ".py , .pyi , .pyc , .pyd , .pyo , .pyw , .pyz  these extensions are python files."
   ]
  },
  {
   "cell_type": "markdown",
   "id": "2f857ac4-a7b2-4398-9a76-412c28e9f085",
   "metadata": {},
   "source": [
    "Q.5 is Python code complied or interpreted?"
   ]
  },
  {
   "cell_type": "markdown",
   "id": "49c808e3-fd9a-4983-a0ca-b946c828d216",
   "metadata": {},
   "source": [
    "python code is interpreted."
   ]
  },
  {
   "cell_type": "markdown",
   "id": "f9a86095-3ae1-4d29-914b-0aa65939d88b",
   "metadata": {},
   "source": [
    "Q.6 Name a few blocks of code used to define in python language?"
   ]
  },
  {
   "cell_type": "markdown",
   "id": "df51f306-42b5-411a-a858-fcf42bf07d86",
   "metadata": {},
   "source": [
    "if else , switch cases, while block"
   ]
  },
  {
   "cell_type": "markdown",
   "id": "cf175572-d973-47c8-8dd5-0e2e0d8fd45a",
   "metadata": {},
   "source": [
    "Q.7 State a character used to give single-line comments in python?"
   ]
  },
  {
   "cell_type": "code",
   "execution_count": 6,
   "id": "7e7cfae5-0385-4c32-b39b-f88279634870",
   "metadata": {},
   "outputs": [],
   "source": [
    "#(hash character)"
   ]
  },
  {
   "cell_type": "markdown",
   "id": "5b60bfb9-434a-42a5-ba79-9b731c8f0134",
   "metadata": {},
   "source": [
    "Q.8 mention functions which can help us to find the version of python taht we are currently working on?"
   ]
  },
  {
   "cell_type": "markdown",
   "id": "ce8753b8-f807-4929-bdcd-a1fff74ac527",
   "metadata": {},
   "source": [
    "python --version"
   ]
  },
  {
   "cell_type": "code",
   "execution_count": 10,
   "id": "def8a225-afc3-4e8b-aa32-17aac045fc2a",
   "metadata": {},
   "outputs": [
    {
     "name": "stdout",
     "output_type": "stream",
     "text": [
      "3.10.8 | packaged by conda-forge | (main, Nov 22 2022, 08:26:04) [GCC 10.4.0]\n"
     ]
    }
   ],
   "source": [
    "import sys\n",
    "\n",
    "print(sys.version)"
   ]
  },
  {
   "cell_type": "code",
   "execution_count": 12,
   "id": "ba693ee1-f46d-404b-9f17-b27eab27d0c2",
   "metadata": {},
   "outputs": [
    {
     "name": "stdout",
     "output_type": "stream",
     "text": [
      "sys.version_info(major=3, minor=10, micro=8, releaselevel='final', serial=0)\n"
     ]
    }
   ],
   "source": [
    "print(sys.version_info)"
   ]
  },
  {
   "cell_type": "code",
   "execution_count": 13,
   "id": "ddb46cf6-b655-4162-ade4-735c07433496",
   "metadata": {},
   "outputs": [
    {
     "name": "stdout",
     "output_type": "stream",
     "text": [
      "3.10.8\n"
     ]
    }
   ],
   "source": [
    "import platform\n",
    "\n",
    "print(platform.python_version())"
   ]
  },
  {
   "cell_type": "markdown",
   "id": "5cd1531a-d82c-49f4-aeb3-257deb6b9a69",
   "metadata": {},
   "source": [
    "Q.9 python supports the creation of anonymous functions at runtime,using a constuct called __________"
   ]
  },
  {
   "cell_type": "markdown",
   "id": "7259b1f9-6761-4ff4-adc5-464642cbc9bc",
   "metadata": {},
   "source": [
    "lambda function"
   ]
  },
  {
   "cell_type": "markdown",
   "id": "572d1cd8-a9ff-46be-941e-9508f3be44fd",
   "metadata": {},
   "source": [
    "Q.10 what does pip stand for python ?"
   ]
  },
  {
   "cell_type": "markdown",
   "id": "929e8698-8885-40aa-a2b8-765014affc4e",
   "metadata": {},
   "source": [
    "preferred installer program and PIP installs Packages."
   ]
  },
  {
   "cell_type": "markdown",
   "id": "1d4131fd-7cfd-40cb-8f8e-15a968240072",
   "metadata": {},
   "source": [
    "Q.11 mention a few built-in functions in python?"
   ]
  },
  {
   "cell_type": "markdown",
   "id": "d3126258-0a3a-40da-9b09-1d79f5f9414f",
   "metadata": {},
   "source": [
    "print() , type() , input() , sum() , sorted() , count() , max() "
   ]
  },
  {
   "cell_type": "markdown",
   "id": "ca5a38eb-a4be-4c7c-a560-600a6885e194",
   "metadata": {},
   "source": [
    "Q.12 what is the maximum possible length of an identifier in python?"
   ]
  },
  {
   "cell_type": "markdown",
   "id": "90ad3981-cbf4-45f3-8fe4-e553c7a024ae",
   "metadata": {},
   "source": [
    "79 characters"
   ]
  },
  {
   "cell_type": "markdown",
   "id": "81416bf9-27d6-4157-8c8d-0b4f0a28043d",
   "metadata": {},
   "source": [
    "Q.13 what are the benefits of using python?"
   ]
  },
  {
   "cell_type": "markdown",
   "id": "5059941c-ba4e-4004-a7aa-556669536cc8",
   "metadata": {},
   "source": [
    "Because of Python is Extensible. it have huge libraries and also python is easy to learn. one of the most important benefits of Python is its vast community of developers and software engineers. "
   ]
  },
  {
   "cell_type": "markdown",
   "id": "658b8632-d564-4018-9061-8ed2b3390a9d",
   "metadata": {},
   "source": [
    "Q.14 how is memory managed in python?"
   ]
  },
  {
   "cell_type": "markdown",
   "id": "3850e658-7a6e-4ac6-8010-8074b6f856b7",
   "metadata": {},
   "source": [
    "Memory in Python is managed by Python private heap space. The memory is a heap that stores the program's objects and other data structures. The Python memory manager uses API methods to handle the allocation and deallocation of this heap space. We create a new Class in the example above. After that, we created an instance of the class and made it a property of itself."
   ]
  },
  {
   "cell_type": "markdown",
   "id": "c6540f58-96d4-467c-a4c4-c69b88d59a2e",
   "metadata": {},
   "source": [
    "Q.15 how to install python on windowa and set path variables ?"
   ]
  },
  {
   "cell_type": "markdown",
   "id": "a041be4e-f018-484b-938f-b02ce52c9ca1",
   "metadata": {},
   "source": [
    "install python on windows : ---\n",
    " write a cammand \"pip install python\" in cmd of windows \n",
    "    \n",
    "set path variables :--\n",
    "\n",
    "Right-clicking This PC and going to Properties.\n",
    "\n",
    "Clicking on the Advanced system settings in the menu on the left.\n",
    "\n",
    "Clicking on the Environment Variables button on the bottom right.\n",
    "\n",
    "In the System variables section, selecting the Path variable and clicking on Edit. The next screen will show all the directories that are currently a part of the PATH variable.\n",
    "\n",
    "Clicking on New and entering Python’s install directory."
   ]
  },
  {
   "cell_type": "markdown",
   "id": "6a7ee30c-7c3a-4a20-ba62-62abc08d9426",
   "metadata": {},
   "source": [
    "Q.16 is indentation required in python?"
   ]
  },
  {
   "cell_type": "code",
   "execution_count": null,
   "id": "bb98f0d9-f6e3-43fa-8125-15c863d30a44",
   "metadata": {},
   "outputs": [],
   "source": []
  }
 ],
 "metadata": {
  "kernelspec": {
   "display_name": "Python 3 (ipykernel)",
   "language": "python",
   "name": "python3"
  },
  "language_info": {
   "codemirror_mode": {
    "name": "ipython",
    "version": 3
   },
   "file_extension": ".py",
   "mimetype": "text/x-python",
   "name": "python",
   "nbconvert_exporter": "python",
   "pygments_lexer": "ipython3",
   "version": "3.10.8"
  }
 },
 "nbformat": 4,
 "nbformat_minor": 5
}

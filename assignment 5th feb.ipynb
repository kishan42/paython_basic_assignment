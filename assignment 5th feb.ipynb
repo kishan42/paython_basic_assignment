{
 "cells": [
  {
   "cell_type": "markdown",
   "id": "663e06fb-0232-4d00-b8ad-db8227a33890",
   "metadata": {},
   "source": [
    "Q1. Explain Class and Object with respect to Object-Oriented Programming. Give a suitable example."
   ]
  },
  {
   "cell_type": "markdown",
   "id": "e5f7c283-d8cb-473e-8904-be939bfbb46b",
   "metadata": {},
   "source": [
    "class is blueprint of the object(real world entity).Class is a blueprint which defines some properties and behaviors.\n",
    "\n",
    "object is an instance of a class and it is real-world Entity.it is created with specifically defined data.\n",
    "\n",
    "Bike has one class and its objects like honda,shine,spender,BMW and each object has behaviors like color, name, prize, milage. "
   ]
  },
  {
   "cell_type": "markdown",
   "id": "ddbdd49b-76b7-4cc7-9db7-3c91feb446ac",
   "metadata": {},
   "source": [
    "Q2. Name the four pillars of OOPs."
   ]
  },
  {
   "cell_type": "markdown",
   "id": "d01d305c-a1ac-4b2a-9fd6-3238d2634075",
   "metadata": {},
   "source": [
    "four pillars for OOPs are:\n",
    "    1.Abstraction\n",
    "    2.Encapsulation\n",
    "    3.Inheritance\n",
    "    4.Polymorphism"
   ]
  },
  {
   "cell_type": "markdown",
   "id": "2ab348ab-f4b2-48c1-b9a5-3780731adef2",
   "metadata": {},
   "source": [
    "Q3. Explain why the __init__() function is used. Give a suitable example."
   ]
  },
  {
   "cell_type": "markdown",
   "id": "e9ddae85-9610-41d3-a58c-7274195b31c3",
   "metadata": {},
   "source": [
    "__init__() is one type of constructor in python. it is default constructor are used to intializing object state.\n",
    "constructors is use to assign values to the data members of class when object of class is created.contructor also contains a collection of statements that are executed at the time of object creation."
   ]
  },
  {
   "cell_type": "code",
   "execution_count": 4,
   "id": "489d30c6-b968-4436-9ee6-9999472d4f09",
   "metadata": {},
   "outputs": [],
   "source": [
    "class person:\n",
    "    \n",
    "    def __init__(self,name):\n",
    "        self.name = name\n",
    "        \n",
    "    def con(self):\n",
    "        print(\"hello \",self.name)"
   ]
  },
  {
   "cell_type": "code",
   "execution_count": 5,
   "id": "406ddc12-bbf9-4313-9604-792e032f5f6d",
   "metadata": {},
   "outputs": [],
   "source": [
    "p = person('kishan')"
   ]
  },
  {
   "cell_type": "code",
   "execution_count": 6,
   "id": "bda8fbf1-11d9-408a-9869-4aaefa285bb3",
   "metadata": {},
   "outputs": [
    {
     "name": "stdout",
     "output_type": "stream",
     "text": [
      "hello  kishan\n"
     ]
    }
   ],
   "source": [
    "p.con()"
   ]
  },
  {
   "cell_type": "markdown",
   "id": "e0259ab6-dcb8-4185-bdf6-b9ed882863d0",
   "metadata": {},
   "source": [
    "Q4. Why self is used in OOPs?"
   ]
  },
  {
   "cell_type": "markdown",
   "id": "242611e9-28a2-41dc-b5a0-b449d3fce626",
   "metadata": {},
   "source": [
    "The self is used to represent the instance of the class. With this keyword, you can access the attributes and methods of the class in python. It binds the attributes with the given arguments. The reason why we use self is that Python does not use the ‘@’ syntax to refer to instance attributes."
   ]
  },
  {
   "cell_type": "markdown",
   "id": "d823fb12-e8f3-46e9-b9f2-b7308f496a43",
   "metadata": {},
   "source": [
    "Q5. What is inheritance? Give an example for each type of inheritance."
   ]
  },
  {
   "cell_type": "markdown",
   "id": "13348e00-5922-44c3-a918-e297da2a693f",
   "metadata": {},
   "source": [
    "Inheritance is a mechanism of acquiring the features and behaviors of a class by another class. The class whose members are inherited is called the base class, and the class that inherits those members is called the derived class."
   ]
  },
  {
   "cell_type": "code",
   "execution_count": 10,
   "id": "c8b84cc3-4f5e-48c0-a758-77fe8f950b19",
   "metadata": {},
   "outputs": [
    {
     "name": "stdout",
     "output_type": "stream",
     "text": [
      "This function is in parent class.\n",
      "This function is in child class.\n"
     ]
    }
   ],
   "source": [
    "#single inheritance\n",
    "class Parent:\n",
    "    def func1(self):\n",
    "        print(\"This function is in parent class.\")\n",
    "class Child(Parent):\n",
    "    def func2(self):\n",
    "        print(\"This function is in child class.\")\n",
    "o = Child()\n",
    "o.func1()\n",
    "o.func2()"
   ]
  },
  {
   "cell_type": "code",
   "execution_count": 21,
   "id": "67f3d15d-7fb1-4257-956b-2ce7b150d47a",
   "metadata": {},
   "outputs": [],
   "source": [
    "#multiple inheritance\n",
    "class a:\n",
    "    a = ''\n",
    "    def func1(self):\n",
    "        print(\"this is the function 1 \",self.a)\n",
    "class b:\n",
    "    b = ''\n",
    "    def func2(self):\n",
    "        print(\"this is the function 2 \",self.b)\n",
    "class c(a,b):\n",
    "    def func3(self):\n",
    "        print(\"this is :\",self.a)\n",
    "        print(\"this is :\",self.b)"
   ]
  },
  {
   "cell_type": "code",
   "execution_count": 22,
   "id": "45fec3c3-de1b-4922-b1d0-0719fdc62172",
   "metadata": {},
   "outputs": [],
   "source": [
    "o = c()"
   ]
  },
  {
   "cell_type": "code",
   "execution_count": 24,
   "id": "78943b7d-57d4-4368-b2e7-5343ca1bfb43",
   "metadata": {},
   "outputs": [],
   "source": [
    "o.a,o.b ='a','b'"
   ]
  },
  {
   "cell_type": "code",
   "execution_count": 28,
   "id": "9e8c27a9-133f-4d49-adb6-70a2a3e335a7",
   "metadata": {},
   "outputs": [
    {
     "name": "stdout",
     "output_type": "stream",
     "text": [
      "this is the function 1  a\n",
      "this is the function 2  b\n",
      "this is : a\n",
      "this is : b\n"
     ]
    }
   ],
   "source": [
    "o.func1()\n",
    "o.func2()\n",
    "o.func3()"
   ]
  },
  {
   "cell_type": "code",
   "execution_count": 29,
   "id": "642878ee-bbd6-4c6d-a1dd-8465aaa33cf2",
   "metadata": {},
   "outputs": [],
   "source": [
    "#multilevel inheritance\n",
    "class a:\n",
    "    a = ''\n",
    "    def func1(self):\n",
    "        print(\"this is the function 1 \",self.a)\n",
    "class b(a):\n",
    "    b = ''\n",
    "    def func2(self):\n",
    "        print(\"this is the function 2 \",self.b,self.a)\n",
    "class c(b):\n",
    "    def func3(self):\n",
    "        print(\"this is :\",self.a)\n",
    "        print(\"this is :\",self.b)"
   ]
  },
  {
   "cell_type": "code",
   "execution_count": 33,
   "id": "9178310a-b548-4a2a-bafd-4d8ebf9900c7",
   "metadata": {},
   "outputs": [],
   "source": [
    "obj = c()"
   ]
  },
  {
   "cell_type": "code",
   "execution_count": 34,
   "id": "8002488a-3dea-4bad-a818-0c02188e19da",
   "metadata": {},
   "outputs": [],
   "source": [
    "obj.a,obj.b ='a','b'"
   ]
  },
  {
   "cell_type": "code",
   "execution_count": 35,
   "id": "97f2b4c2-a0dc-4b60-a991-97bb4d070279",
   "metadata": {},
   "outputs": [
    {
     "name": "stdout",
     "output_type": "stream",
     "text": [
      "this is the function 1  a\n",
      "this is the function 2  b a\n",
      "this is : a\n",
      "this is : b\n"
     ]
    }
   ],
   "source": [
    "obj.func1()\n",
    "obj.func2()\n",
    "obj.func3()"
   ]
  },
  {
   "cell_type": "code",
   "execution_count": 46,
   "id": "8b7f82b1-608f-4bd0-8ca9-88dbee2e8f12",
   "metadata": {},
   "outputs": [],
   "source": [
    "#Hierarchical inheritance\n",
    "class a:\n",
    "    a = ''\n",
    "    def func1(self):\n",
    "        print(\"this is the function 1 \",self.a)\n",
    "class b(a):\n",
    "    b = ''\n",
    "    def func2(self):\n",
    "        print(\"this is the function 2 \",self.b,self.a)\n",
    "class c(a):\n",
    "    c = ''\n",
    "    def func3(self):\n",
    "        print(\"this is :\",self.a)\n",
    "        print(\"this is :\",self.c)"
   ]
  },
  {
   "cell_type": "code",
   "execution_count": 47,
   "id": "fa7bdc9c-e612-4ab0-ad24-a314eb001c3f",
   "metadata": {},
   "outputs": [],
   "source": [
    "obj1 = c()\n",
    "obj2 = b()"
   ]
  },
  {
   "cell_type": "code",
   "execution_count": 52,
   "id": "891086d1-82ac-42d9-a704-ecaf107c0e05",
   "metadata": {},
   "outputs": [],
   "source": [
    "obj1.c,obj2.b,obj1.a,obj2.a ='c','b','a1','a2'"
   ]
  },
  {
   "cell_type": "code",
   "execution_count": 53,
   "id": "8f1e14ce-af7b-4272-83a3-2d996e75f588",
   "metadata": {},
   "outputs": [
    {
     "name": "stdout",
     "output_type": "stream",
     "text": [
      "this is the function 1  a1\n",
      "this is : a1\n",
      "this is : c\n",
      "this is the function 1  a2\n",
      "this is the function 2  b a2\n"
     ]
    }
   ],
   "source": [
    "obj1.func1()\n",
    "obj1.func3()\n",
    "obj2.func1()\n",
    "obj2.func2()"
   ]
  },
  {
   "cell_type": "code",
   "execution_count": 55,
   "id": "18bee259-80ef-4dc5-85f7-e9986424b6bb",
   "metadata": {},
   "outputs": [],
   "source": [
    "#Hybrid inheritance\n",
    "class a:\n",
    "    a = ''\n",
    "    def func1(self):\n",
    "        print(\"this is the function 1 \",self.a)\n",
    "class b(a):\n",
    "    b = ''\n",
    "    def func2(self):\n",
    "        print(\"this is the function 2 \",self.b,self.a)\n",
    "class c(a):\n",
    "    c = ''\n",
    "    def func3(self):\n",
    "        print(\"this is :\",self.a)\n",
    "        print(\"this is :\",self.c)\n",
    "class d(b,c):\n",
    "    def func4(self):\n",
    "        print(\"this is :\",self.a)\n",
    "        print(\"this is :\",self.b)\n",
    "        print(\"this is :\",self.c)"
   ]
  },
  {
   "cell_type": "code",
   "execution_count": 56,
   "id": "f05e6664-697a-44cd-9984-00749d5aaab5",
   "metadata": {},
   "outputs": [],
   "source": [
    "og = d()"
   ]
  },
  {
   "cell_type": "code",
   "execution_count": 59,
   "id": "c7727edf-5956-40c4-b0dc-a7a09e3aa747",
   "metadata": {},
   "outputs": [],
   "source": [
    "og.c,og.b,og.a ='c','b','a1'"
   ]
  },
  {
   "cell_type": "code",
   "execution_count": 60,
   "id": "e60d31b8-f58f-4ba9-8283-891b487419bd",
   "metadata": {},
   "outputs": [
    {
     "name": "stdout",
     "output_type": "stream",
     "text": [
      "this is the function 1  a1\n",
      "this is the function 2  b a1\n",
      "this is : a1\n",
      "this is : c\n",
      "this is : a1\n",
      "this is : b\n",
      "this is : c\n"
     ]
    }
   ],
   "source": [
    "og.func1()\n",
    "og.func2()\n",
    "og.func3()\n",
    "og.func4()"
   ]
  },
  {
   "cell_type": "code",
   "execution_count": null,
   "id": "b20693d2-975e-4295-9f32-1f1d1e9dccdb",
   "metadata": {},
   "outputs": [],
   "source": []
  }
 ],
 "metadata": {
  "kernelspec": {
   "display_name": "Python 3 (ipykernel)",
   "language": "python",
   "name": "python3"
  },
  "language_info": {
   "codemirror_mode": {
    "name": "ipython",
    "version": 3
   },
   "file_extension": ".py",
   "mimetype": "text/x-python",
   "name": "python",
   "nbconvert_exporter": "python",
   "pygments_lexer": "ipython3",
   "version": "3.10.8"
  }
 },
 "nbformat": 4,
 "nbformat_minor": 5
}

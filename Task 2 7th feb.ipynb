{
 "cells": [
  {
   "cell_type": "markdown",
   "id": "3cb0e179-4bc9-48a0-8a79-ec2e45fe2d23",
   "metadata": {},
   "source": [
    "Q1. You are writing code for a company. The requirement of the company is that you create a python\n",
    "function that will check whether the password entered by the user is correct or not. The function should\n",
    "take the password as input and return the string “Valid Password” if the entered password follows the\n",
    "below-given password guidelines else it should return “Invalid Password”.\n",
    "Note: 1. The Password should contain at least two uppercase letters and at least two lowercase letters.\n",
    "2. The Password should contain at least a number and three special characters.\n",
    "3. The length of the password should be 10 characters long."
   ]
  },
  {
   "cell_type": "code",
   "execution_count": 26,
   "id": "0dcf3bf3-27c2-4fe6-853e-86610e5a7936",
   "metadata": {},
   "outputs": [],
   "source": [
    "def func(str):\n",
    "    ucount,lcount,ncount,acount = 0,0,0,0\n",
    "    if len(str) > 10:\n",
    "        for i in str:\n",
    "            if i.isupper():\n",
    "                ucount = ucount + 1\n",
    "            elif i.islower():\n",
    "                lcount = lcount + 1\n",
    "            elif i.isnumeric():\n",
    "                ncount = ncount + 1\n",
    "            elif not(i.isalnum()):\n",
    "                acount = acount + 1\n",
    "        if ucount < 2:\n",
    "            print(\"The Password should contain at least two uppercase letters\")\n",
    "        elif lcount < 2:\n",
    "            print(\"The Password should contain at at least two lowercase letters\")\n",
    "        elif ncount < 1:\n",
    "            print(\"The Password should contain at least a number\")\n",
    "        elif acount < 3:\n",
    "            print(\"The Password should contain at least three special characters.\")\n",
    "        else:\n",
    "            print(str,\" is Valid password\")\n",
    "    else:\n",
    "        print(\" The length of the password should be 10 characters long.\")"
   ]
  },
  {
   "cell_type": "code",
   "execution_count": 27,
   "id": "b1432737-1630-43a2-b95d-60da61c5fbb0",
   "metadata": {},
   "outputs": [
    {
     "name": "stdout",
     "output_type": "stream",
     "text": [
      "123DUfx@##4d  is Valid password\n"
     ]
    }
   ],
   "source": [
    "func(\"123DUfx@##4d\")"
   ]
  },
  {
   "cell_type": "markdown",
   "id": "cd7b3c14-e1d4-45e2-9de2-8992a121505a",
   "metadata": {},
   "source": [
    "Q2. Solve the below-given questions using at least one of the following:\n",
    "1. Lambda functioJ\n",
    "2. Filter functioJ\n",
    "3. Zap functioJ\n",
    "4. List ComprehensioI\n",
    "B Check if the string starts with a particular letterY\n",
    "B Check if the string is numericY\n",
    "B Sort a list of tuples having fruit names and their quantity. [(\"mango\",99),(\"orange\",80), (\"grapes\", 1000)-\n",
    "B Find the squares of numbers from 1 to 10Y\n",
    "B Find the cube root of numbers from 1 to 10Y\n",
    "B Check if a given number is evenY\n",
    "B Filter odd numbers from the given list.\n",
    "[1,2,3,4,5,6,7,8,9,10-\n",
    "B Sort a list of integers into positive and negative integers lists.\n",
    "[1,2,3,4,5,6,-1,-2,-3,-4,-5,0]"
   ]
  },
  {
   "cell_type": "markdown",
   "id": "209951bb-2e84-406e-bf5e-cca81b4cb6e2",
   "metadata": {},
   "source": [
    "Check if the string starts with a particular letter."
   ]
  },
  {
   "cell_type": "code",
   "execution_count": 6,
   "id": "98a537ab-51f3-4f3e-9979-4a4de399d082",
   "metadata": {},
   "outputs": [],
   "source": [
    "l1 = ['acb','tyub','rgf','awse','11234','54224']"
   ]
  },
  {
   "cell_type": "code",
   "execution_count": 7,
   "id": "2c4a3bd9-d211-4679-afba-bd124912f52d",
   "metadata": {},
   "outputs": [
    {
     "data": {
      "text/plain": [
       "['acb', 'awse']"
      ]
     },
     "execution_count": 7,
     "metadata": {},
     "output_type": "execute_result"
    }
   ],
   "source": [
    "list(filter(lambda x:x.startswith('a'),l1))"
   ]
  },
  {
   "cell_type": "markdown",
   "id": "daabf086-4063-4f53-b50d-a0b3943ee103",
   "metadata": {},
   "source": [
    "Check if the string is numericY"
   ]
  },
  {
   "cell_type": "code",
   "execution_count": 8,
   "id": "27090c78-d5e7-43a2-b456-c094e60a9497",
   "metadata": {},
   "outputs": [
    {
     "data": {
      "text/plain": [
       "['11234', '54224']"
      ]
     },
     "execution_count": 8,
     "metadata": {},
     "output_type": "execute_result"
    }
   ],
   "source": [
    "list(filter(lambda x:x.isnumeric(),l1))"
   ]
  },
  {
   "cell_type": "markdown",
   "id": "a8f31a99-ef83-483c-9df1-44b33a121424",
   "metadata": {},
   "source": [
    "Sort a list of tuples having fruit names and their quantity. [(\"mango\",99),(\"orange\",80), (\"grapes\", 1000)-"
   ]
  },
  {
   "cell_type": "code",
   "execution_count": 9,
   "id": "bcce5f08-9fd3-4880-8340-9d28d3f8e428",
   "metadata": {},
   "outputs": [],
   "source": [
    "l = [(\"mango\",99),(\"orange\",80), (\"grapes\", 1000)]"
   ]
  },
  {
   "cell_type": "code",
   "execution_count": 15,
   "id": "3274d5b8-466c-47aa-976b-da21ff5dc384",
   "metadata": {},
   "outputs": [],
   "source": [
    "l.sort(key = lambda x:x[1])"
   ]
  },
  {
   "cell_type": "code",
   "execution_count": 16,
   "id": "027717b6-538e-4f1b-980b-5b65457a4e9a",
   "metadata": {},
   "outputs": [
    {
     "data": {
      "text/plain": [
       "[('orange', 80), ('mango', 99), ('grapes', 1000)]"
      ]
     },
     "execution_count": 16,
     "metadata": {},
     "output_type": "execute_result"
    }
   ],
   "source": [
    "l"
   ]
  },
  {
   "cell_type": "markdown",
   "id": "cdbf324b-bc47-4553-832c-28925c8440b7",
   "metadata": {},
   "source": [
    "Find the squares of numbers from 1 to 10Y"
   ]
  },
  {
   "cell_type": "code",
   "execution_count": 18,
   "id": "3b382632-7bfd-4ae5-99b2-5adefb80e7e1",
   "metadata": {},
   "outputs": [
    {
     "data": {
      "text/plain": [
       "[1, 4, 9, 16, 25, 36, 49, 64, 81, 100]"
      ]
     },
     "execution_count": 18,
     "metadata": {},
     "output_type": "execute_result"
    }
   ],
   "source": [
    "[i*i for i in range(1,11)]"
   ]
  },
  {
   "cell_type": "markdown",
   "id": "3e4ca068-d236-48fa-9bae-3af1d5f6c3e7",
   "metadata": {},
   "source": [
    "Find the cube root of numbers from 1 to 10Y"
   ]
  },
  {
   "cell_type": "code",
   "execution_count": 24,
   "id": "c4017fd0-95a8-4667-a062-972d8bf9336b",
   "metadata": {},
   "outputs": [
    {
     "data": {
      "text/plain": [
       "[1.0,\n",
       " 1.2599210498948732,\n",
       " 1.4422495703074083,\n",
       " 1.5874010519681994,\n",
       " 1.7099759466766968,\n",
       " 1.8171205928321397,\n",
       " 1.912931182772389,\n",
       " 2.0,\n",
       " 2.080083823051904,\n",
       " 2.154434690031884]"
      ]
     },
     "execution_count": 24,
     "metadata": {},
     "output_type": "execute_result"
    }
   ],
   "source": [
    "list(map(lambda x:x**(1/3),[i for i in range(1,11)]))"
   ]
  },
  {
   "cell_type": "markdown",
   "id": "73b3f30e-b3c2-4298-8f53-1007bca3cd99",
   "metadata": {},
   "source": [
    "Check if a given number is evenY"
   ]
  },
  {
   "cell_type": "code",
   "execution_count": 11,
   "id": "061fc4ff-4232-4714-b7e0-de92843feabc",
   "metadata": {},
   "outputs": [],
   "source": [
    "y =lambda x:x%2 == 0"
   ]
  },
  {
   "cell_type": "code",
   "execution_count": 13,
   "id": "528a1b6b-b89a-4fee-bb2b-b4252c20ee9c",
   "metadata": {},
   "outputs": [
    {
     "data": {
      "text/plain": [
       "True"
      ]
     },
     "execution_count": 13,
     "metadata": {},
     "output_type": "execute_result"
    }
   ],
   "source": [
    "y(10)"
   ]
  },
  {
   "cell_type": "markdown",
   "id": "10991f01-4aed-48f7-b4f9-9c3da22a538a",
   "metadata": {},
   "source": [
    "Filter odd numbers from the given list."
   ]
  },
  {
   "cell_type": "code",
   "execution_count": 26,
   "id": "269394bd-b7ee-4676-b695-fe433ef667f4",
   "metadata": {},
   "outputs": [
    {
     "data": {
      "text/plain": [
       "[1, 3, 5, 7, 9]"
      ]
     },
     "execution_count": 26,
     "metadata": {},
     "output_type": "execute_result"
    }
   ],
   "source": [
    "list(filter(lambda x:x%2 != 0,[1,2,3,4,5,6,7,8,9,10]))"
   ]
  },
  {
   "cell_type": "markdown",
   "id": "ccb6c627-45f3-4adb-8b73-5cac4e8aaeab",
   "metadata": {},
   "source": [
    "Sort a list of integers into positive and negative integers lists."
   ]
  },
  {
   "cell_type": "code",
   "execution_count": 8,
   "id": "57b2fa90-5c7e-4437-89ff-0867749e4879",
   "metadata": {},
   "outputs": [],
   "source": [
    "l = [1,2,3,4,5,6,-1,-2,-3,-4,-5,0]\n",
    "B,C=[i for i in l if i<0 ],[j for j in l if j>0]"
   ]
  },
  {
   "cell_type": "code",
   "execution_count": 10,
   "id": "e7ee40a7-9111-4d19-8e5f-10f8ed11309f",
   "metadata": {},
   "outputs": [
    {
     "data": {
      "text/plain": [
       "([-1, -2, -3, -4, -5], [1, 2, 3, 4, 5, 6])"
      ]
     },
     "execution_count": 10,
     "metadata": {},
     "output_type": "execute_result"
    }
   ],
   "source": [
    "B,C\n"
   ]
  },
  {
   "cell_type": "code",
   "execution_count": null,
   "id": "45b8570e-bc87-43da-816e-888c8b67ff14",
   "metadata": {},
   "outputs": [],
   "source": []
  }
 ],
 "metadata": {
  "kernelspec": {
   "display_name": "Python 3 (ipykernel)",
   "language": "python",
   "name": "python3"
  },
  "language_info": {
   "codemirror_mode": {
    "name": "ipython",
    "version": 3
   },
   "file_extension": ".py",
   "mimetype": "text/x-python",
   "name": "python",
   "nbconvert_exporter": "python",
   "pygments_lexer": "ipython3",
   "version": "3.10.8"
  }
 },
 "nbformat": 4,
 "nbformat_minor": 5
}
